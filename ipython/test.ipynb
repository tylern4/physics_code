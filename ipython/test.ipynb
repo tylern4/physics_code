{
 "metadata": {
  "name": "",
  "signature": "sha256:6aac0bdf13244d0abb499e97d364d4ebf806586903d71f1b89cf967a6c88e40c"
 },
 "nbformat": 3,
 "nbformat_minor": 0,
 "worksheets": [
  {
   "cells": [
    {
     "cell_type": "code",
     "collapsed": false,
     "input": [
      "temp = input('Enter Tempurature: ')\n",
      "CorF = raw_input('Convert to (C)elcius or (F)arenhiet: ').upper()\n",
      "\n",
      "if CorF == 'C' :\n",
      "    tempurature = (5.0/9.0)*(temp-32.0)\n",
      "    print temp,'F','=',tempurature,'C'\n",
      "elif CorF == 'F' :\n",
      "    tempurature = (9.0/5.0)*temp+32.0\n",
      "    print temp,'C','=',tempurature,'F'\n",
      "else :\n",
      "    print \"Can't convert\",CorF,\"not an allowed value\"\n",
      "    "
     ],
     "language": "python",
     "metadata": {},
     "outputs": [
      {
       "name": "stdout",
       "output_type": "stream",
       "stream": "stdout",
       "text": [
        "Enter Tempurature: 68.8\n"
       ]
      },
      {
       "name": "stdout",
       "output_type": "stream",
       "stream": "stdout",
       "text": [
        "Convert to (C)elcius or (F)arenhiet: C\n"
       ]
      },
      {
       "output_type": "stream",
       "stream": "stdout",
       "text": [
        "68.8 F = 20.4444444444 C\n"
       ]
      }
     ],
     "prompt_number": 45
    },
    {
     "cell_type": "code",
     "collapsed": false,
     "input": [
      "import random\n",
      "\n",
      "print \"Lets play a game\"\n",
      "guess = input(\"Guess my number (between 1-100):\")\n",
      "mine = random.randint(1,100)\n",
      "tries = 0\n",
      "while tries <= 100 :\n",
      "    guess = input(\"Guess my number (between 1-100):\")\n",
      "    if mine == guess :\n",
      "        print \"You won!!\"\n",
      "        print \"it only took you\",tries,\"tries\"\n",
      "    elif tries >= 5 :\n",
      "        print \"give up?\"\n",
      "        print \"the answer was\",mine\n",
      "        break\n",
      "    else :\n",
      "        tries += 1"
     ],
     "language": "python",
     "metadata": {},
     "outputs": []
    },
    {
     "cell_type": "code",
     "collapsed": false,
     "input": [],
     "language": "python",
     "metadata": {},
     "outputs": []
    }
   ],
   "metadata": {}
  }
 ]
}