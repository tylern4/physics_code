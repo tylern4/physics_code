{
 "metadata": {
  "name": "",
  "signature": "sha256:7c0706b7022c7d9caa813f7aca702bf76d9912b2fb4b662ed7754316744e4f56"
 },
 "nbformat": 3,
 "nbformat_minor": 0,
 "worksheets": [
  {
   "cells": [
    {
     "cell_type": "code",
     "collapsed": false,
     "input": [
      "temp = input('Enter Tempurature: ')\n",
      "CorF = raw_input('Convert to (C)elcius or (F)arenhiet: ')\n",
      "\n",
      "if CorF is \"C\" or \"c\" :\n",
      "    tempurature = (5.0/9.0)*(temp-32.0)\n",
      "    print temp,'F','=',tempurature,'C'\n",
      "elif CofF is \"F\" or \"f\" :\n",
      "    tempurature = (9/5)*temp+32\n",
      "    print temp,'c','=',tempurature,'F'\n",
      "else :\n",
      "    print \"Can't convert\",CorF,\"not an allowed value\"\n",
      "    "
     ],
     "language": "python",
     "metadata": {},
     "outputs": [
      {
       "name": "stdout",
       "output_type": "stream",
       "stream": "stdout",
       "text": [
        "Enter Tempurature: 34\n"
       ]
      },
      {
       "name": "stdout",
       "output_type": "stream",
       "stream": "stdout",
       "text": [
        "Convert to (C)elcius or (F)arenhiet: F\n"
       ]
      },
      {
       "output_type": "stream",
       "stream": "stdout",
       "text": [
        "<type 'str'>\n",
        "34 F = 1.11111111111 C\n"
       ]
      }
     ],
     "prompt_number": 23
    },
    {
     "cell_type": "code",
     "collapsed": false,
     "input": [],
     "language": "python",
     "metadata": {},
     "outputs": []
    }
   ],
   "metadata": {}
  }
 ]
}