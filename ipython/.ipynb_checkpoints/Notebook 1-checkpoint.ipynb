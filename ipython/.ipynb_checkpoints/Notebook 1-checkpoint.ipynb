{
 "metadata": {
  "name": "",
  "signature": "sha256:b14f1fe8163c1ec148e93eb0f74127c8046957b1da5b4df1b913867b5434a4de"
 },
 "nbformat": 3,
 "nbformat_minor": 0,
 "worksheets": [
  {
   "cells": [
    {
     "cell_type": "code",
     "collapsed": false,
     "input": [
      "import ROOT\n",
      "\n",
      "ROOT.gROOT.Reset()\n",
      "inputFile = ROOT.TFile(\"/home/tylern/physics_code/current/outputFiles/release_2-22_1944.root\")\n",
      "\n",
      "E_p = inputFile.Get('E_prime')\n",
      "E_p.Draw(\"E1\")\n",
      "E_p.SaveAs( \"E1.png\" )"
     ],
     "language": "python",
     "metadata": {},
     "outputs": [],
     "prompt_number": 2
    },
    {
     "cell_type": "code",
     "collapsed": false,
     "input": [
      "print \"hello\""
     ],
     "language": "python",
     "metadata": {},
     "outputs": [
      {
       "output_type": "stream",
       "stream": "stdout",
       "text": [
        "hello\n"
       ]
      }
     ],
     "prompt_number": 4
    },
    {
     "cell_type": "code",
     "collapsed": false,
     "input": [],
     "language": "python",
     "metadata": {},
     "outputs": []
    }
   ],
   "metadata": {}
  }
 ]
}