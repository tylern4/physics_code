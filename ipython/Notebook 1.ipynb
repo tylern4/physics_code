{
 "metadata": {
  "name": "",
  "signature": "sha256:a58a3bd06672c0b649e45d2dd8ced9eba3cc07e88d9261b26c69714230a34b23"
 },
 "nbformat": 3,
 "nbformat_minor": 0,
 "worksheets": [
  {
   "cells": [
    {
     "cell_type": "code",
     "collapsed": false,
     "input": [
      "import ROOT\n",
      "\n",
      "ROOT.gROOT.Reset()\n",
      "inputFile = ROOT.TFile(\"/home/tylern/physics_code/current/outputFiles/release_2-22_1944.root\")\n"
     ],
     "language": "python",
     "metadata": {},
     "outputs": [],
     "prompt_number": 9
    },
    {
     "cell_type": "code",
     "collapsed": false,
     "input": [
      "for i in xrange(0,):\n",
      "    print \"hello\",i"
     ],
     "language": "python",
     "metadata": {},
     "outputs": [
      {
       "output_type": "stream",
       "stream": "stdout",
       "text": [
        "hello 0\n",
        "hello 1\n",
        "hello 2\n",
        "hello 3\n",
        "hello 4\n",
        "hello 5\n",
        "hello 6\n",
        "hello 7\n",
        "hello 8\n",
        "hello 9\n"
       ]
      }
     ],
     "prompt_number": 22
    },
    {
     "cell_type": "code",
     "collapsed": false,
     "input": [],
     "language": "python",
     "metadata": {},
     "outputs": []
    }
   ],
   "metadata": {}
  }
 ]
}