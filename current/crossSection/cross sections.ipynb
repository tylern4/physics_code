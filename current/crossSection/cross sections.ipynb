{
 "cells": [
  {
   "cell_type": "code",
   "execution_count": 1,
   "metadata": {},
   "outputs": [],
   "source": [
    "%matplotlib inline\n",
    "import matplotlib.pyplot as plt\n",
    "import pandas as pd\n",
    "import numpy as np\n"
   ]
  },
  {
   "cell_type": "code",
   "execution_count": 20,
   "metadata": {},
   "outputs": [],
   "source": [
    "def read_data(filename=\"diff.txt\"):\n",
    "    start_lines = []\n",
    "    with open(filename,\"r\") as file:\n",
    "        for line_num, line in enumerate(file):\n",
    "            if \"Data:\" in line:\n",
    "                start_lines.append(line_num)\n",
    "    data_frames = []\n",
    "    with open(filename,\"r\") as file:\n",
    "        lines = file.readlines()\n",
    "        for s in start_lines:\n",
    "            data = []\n",
    "            names = lines[s+1].replace(\"Systematic errors\", \"SystematicErrors\").replace(\"Beam energy\", \"BeamEnergy\").replace(\"Data errors\", \"DataErrors\").split()\n",
    "            units = lines[s+2].split()\n",
    "            print(units)\n",
    "            row_labels = []\n",
    "            for n,u in zip(names,units):\n",
    "                row_labels.append(n+\" (\"+u+\")\")\n",
    "            \n",
    "            for l in lines[s+3:]:\n",
    "                if \"Measurement\" in l:\n",
    "                    break\n",
    "                \n",
    "                data.append(np.array(l.split(), dtype=np.float32))\n",
    "            \n",
    "            df = pd.DataFrame(data, columns=row_labels) \n",
    "            data_frames.append(df)\n",
    "    return data_frames\n",
    "\n",
    "def plot_type1(df):\n",
    "    fig = plt.figure(figsize=(9,9))\n",
    "\n",
    "        \n",
    "    thetas = df[\"theta_pi (deg)\"].unique()\n",
    "    for t in thetas:\n",
    "        d = df[df[\"theta_pi (deg)\"] == t]\n",
    "        plt.errorbar(d[\"phi_pi (deg)\"], d[\"dsigma/dOmega (mcbn/sterad)\"],\n",
    "                     yerr=d[\"DataErrors (mcbn/sterad)\"],fmt='o', label=f\"{np.cos(t)}\", linestyle='None')\n",
    "\n",
    "    plt.legend()\n",
    "    ymin, ymax = plt.gca().get_ylim()\n",
    "    plt.gca().set_yticks(np.round(np.linspace(ymin, ymax, 10), 2))\n",
    "\n",
    "    return fig\n",
    "\n",
    "def plot_type2(df):\n",
    "    fig = plt.figure(figsize=(9,9))\n",
    "\n",
    "    thetas = df[\"cos(theta_pi) (dimensionless)\"].unique()\n",
    "    for t in thetas:\n",
    "        d = df[df[\"cos(theta_pi) (dimensionless)\"] == t]\n",
    "        W = d[\"W (GeV)\"].unique()[0]\n",
    "        Q2 = d[\"Q^2 (GeV^2)\"].unique()[0]\n",
    "        plt.title(f\"W center {W:0.3f} Q^2 center {Q2:0.3f}\")\n",
    "        plt.errorbar(d[\"phi(pi+) (degree)\"], d[\"dsigma/dOmega (mcbn/sterad)\"],\n",
    "                     yerr=d[\"DataErrors (mcbn/sterad)\"],fmt='o', label=f\"{t:0.2f}\", linestyle='None')\n",
    "\n",
    "    plt.legend()\n",
    "    ymin, ymax = plt.gca().get_ylim()\n",
    "    plt.gca().set_yticks(np.round(np.linspace(ymin, ymax, 10), 2))\n",
    "\n",
    "    return fig"
   ]
  },
  {
   "cell_type": "code",
   "execution_count": 21,
   "metadata": {
    "scrolled": false
   },
   "outputs": [
    {
     "name": "stdout",
     "output_type": "stream",
     "text": [
      "??\n",
      "??\n"
     ]
    }
   ],
   "source": [
    "data = read_data(\"experimental_data/E141M8.dat\")\n",
    "\n",
    "for df in data:\n",
    "    print(df.head())\n",
    "    if df.columns.contains(\"BeamEnergy (GeV)\"):\n",
    "        plot_type1(df)\n",
    "    else:\n",
    "        plot_type2(df)\n"
   ]
  },
  {
   "cell_type": "code",
   "execution_count": 23,
   "metadata": {},
   "outputs": [
    {
     "name": "stdout",
     "output_type": "stream",
     "text": [
      "E141M1.dat   E141M123.dat E141M148.dat E141M28.dat  E141M52.dat  E141M77.dat\r\n",
      "E141M10.dat  E141M124.dat E141M149.dat E141M29.dat  E141M53.dat  E141M78.dat\r\n",
      "E141M100.dat E141M125.dat E141M15.dat  E141M3.dat   E141M54.dat  E141M79.dat\r\n",
      "E141M101.dat E141M126.dat E141M150.dat E141M30.dat  E141M55.dat  E141M8.dat\r\n",
      "E141M102.dat E141M127.dat E141M151.dat E141M31.dat  E141M56.dat  E141M80.dat\r\n",
      "E141M103.dat E141M128.dat E141M152.dat E141M32.dat  E141M57.dat  E141M81.dat\r\n",
      "E141M104.dat E141M129.dat E141M153.dat E141M33.dat  E141M58.dat  E141M82.dat\r\n",
      "E141M105.dat E141M13.dat  E141M154.dat E141M34.dat  E141M59.dat  E141M83.dat\r\n",
      "E141M106.dat E141M130.dat E141M155.dat E141M35.dat  E141M6.dat   E141M84.dat\r\n",
      "E141M107.dat E141M131.dat E141M156.dat E141M36.dat  E141M60.dat  E141M85.dat\r\n",
      "E141M108.dat E141M132.dat E141M157.dat E141M37.dat  E141M61.dat  E141M86.dat\r\n",
      "E141M109.dat E141M133.dat E141M158.dat E141M38.dat  E141M62.dat  E141M87.dat\r\n",
      "E141M11.dat  E141M134.dat E141M159.dat E141M39.dat  E141M63.dat  E141M88.dat\r\n",
      "E141M110.dat E141M135.dat E141M16.dat  E141M4.dat   E141M64.dat  E141M89.dat\r\n",
      "E141M111.dat E141M136.dat E141M160.dat E141M40.dat  E141M65.dat  E141M9.dat\r\n",
      "E141M112.dat E141M137.dat E141M17.dat  E141M41.dat  E141M66.dat  E141M90.dat\r\n",
      "E141M113.dat E141M138.dat E141M18.dat  E141M42.dat  E141M67.dat  E141M91.dat\r\n",
      "E141M114.dat E141M139.dat E141M19.dat  E141M43.dat  E141M68.dat  E141M92.dat\r\n",
      "E141M115.dat E141M14.dat  E141M2.dat   E141M44.dat  E141M69.dat  E141M93.dat\r\n",
      "E141M116.dat E141M140.dat E141M20.dat  E141M45.dat  E141M7.dat   E141M94.dat\r\n",
      "E141M117.dat E141M141.dat E141M21.dat  E141M46.dat  E141M70.dat  E141M95.dat\r\n",
      "E141M118.dat E141M142.dat E141M22.dat  E141M47.dat  E141M71.dat  E141M96.dat\r\n",
      "E141M119.dat E141M143.dat E141M23.dat  E141M48.dat  E141M72.dat  E141M97.dat\r\n",
      "E141M12.dat  E141M144.dat E141M24.dat  E141M49.dat  E141M73.dat  E141M98.dat\r\n",
      "E141M120.dat E141M145.dat E141M25.dat  E141M5.dat   E141M74.dat  E141M99.dat\r\n",
      "E141M121.dat E141M146.dat E141M26.dat  E141M50.dat  E141M75.dat\r\n",
      "E141M122.dat E141M147.dat E141M27.dat  E141M51.dat  E141M76.dat\r\n"
     ]
    }
   ],
   "source": [
    "!ls experimental_data/"
   ]
  },
  {
   "cell_type": "code",
   "execution_count": null,
   "metadata": {},
   "outputs": [],
   "source": []
  }
 ],
 "metadata": {
  "kernelspec": {
   "display_name": "Python 3",
   "language": "python",
   "name": "python3"
  },
  "language_info": {
   "codemirror_mode": {
    "name": "ipython",
    "version": 3
   },
   "file_extension": ".py",
   "mimetype": "text/x-python",
   "name": "python",
   "nbconvert_exporter": "python",
   "pygments_lexer": "ipython3",
   "version": "3.7.5"
  }
 },
 "nbformat": 4,
 "nbformat_minor": 2
}
