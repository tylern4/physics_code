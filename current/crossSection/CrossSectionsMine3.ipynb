{
 "cells": [
  {
   "cell_type": "code",
   "execution_count": null,
   "metadata": {},
   "outputs": [],
   "source": [
    "%matplotlib inline\n",
    "import matplotlib.pyplot as plt\n",
    "import numpy as np\n",
    "import seaborn as sns\n",
    "import root_pandas as rp\n",
    "import pandas as pd\n",
    "from tqdm import tqdm\n",
    "from scipy.special import erfc\n",
    "\n",
    "from scipy.optimize import curve_fit"
   ]
  },
  {
   "cell_type": "code",
   "execution_count": null,
   "metadata": {},
   "outputs": [],
   "source": [
    "def func(x, a, b, c):\n",
    "    \"\"\"\n",
    "    a => sigma_l + sigma_t\n",
    "    b => epsilon*sigma_tt\n",
    "    c => Sqrt(2epsilon(1+epsilon))* sigma_lt\n",
    "    \"\"\"\n",
    "    f = a + b * np.cos(2*x) + c * np.cos(x)\n",
    "    return f\n",
    "\n",
    "def degauss(x, A, mu, sigma, lambda1, lambda2):\n",
    "    mu1 = sigma * sigma * lambda1 + x - mu\n",
    "    mu2 = -sigma * sigma * lambda2 + x - mu\n",
    "    ret = A * 0.5 / (1.0 / lambda1 + 1.0 / lambda2) * \\\n",
    "        (np.exp(0.5 * np.power(sigma * lambda1, 2) + lambda1 * (x - mu)) * erfc(mu1 / (sigma * np.sqrt(2.0))) \\\n",
    "         + np.exp(0.5 * np.power(sigma * lambda2, 2) - lambda2 * (x - mu)) * erfc(-mu2 / (sigma * np.sqrt(2.0))))\n",
    "\n",
    "    return ret\n",
    "\n",
    "def gauss(x, A, mu, sig):\n",
    "    ret = np.exp(-np.power(x - mu, 2.) / (2 * np.power(sig, 2.)))\n",
    "    return A*ret\n",
    "\n",
    "def peak(x, c):\n",
    "    return np.exp(-np.power(x - c, 2) / 16.0)\n",
    "\n",
    "def lin_interp(x, y, i, half):\n",
    "    return x[i] + (x[i+1] - x[i]) * ((half - y[i]) / (y[i+1] - y[i]))\n",
    "\n",
    "def half_max_x(x, y):\n",
    "    half = np.max(y)/2.0\n",
    "    signs = np.sign(np.add(y, -half))\n",
    "    zero_crossings = (signs[0:-2] != signs[1:-1])\n",
    "    zero_crossings_i = np.where(zero_crossings)[0]\n",
    "    return [lin_interp(x, y, zero_crossings_i[0], half),\n",
    "            lin_interp(x, y, zero_crossings_i[1], half)]\n"
   ]
  },
  {
   "cell_type": "code",
   "execution_count": null,
   "metadata": {
    "scrolled": true
   },
   "outputs": [],
   "source": [
    "df = pd.read_csv(\"test.csv\",index_col=False)\n",
    "df = df[(df.w > 0) & (df.mm2 > 0.7) & (df.mm2 < 1.5)]\n",
    "df['cos_theta'] = np.cos(df.theta)\n",
    "#df = df[np.abs(df.helicty) == 1]\n",
    "print(len(df))\n",
    "df.head()"
   ]
  },
  {
   "cell_type": "code",
   "execution_count": null,
   "metadata": {
    "scrolled": false
   },
   "outputs": [],
   "source": [
    "def mm_cut(df):\n",
    "    NSIGMA = 1\n",
    "    data = []\n",
    "    for sec in range(1,7):\n",
    "        plt.figure(figsize=(12,9))\n",
    "        y,x = np.histogram(df[df.electron_sector == sec].mm2, bins=500, density=True)\n",
    "        x=(x[1:]+x[:-1])/2\n",
    "        popt_g, pcov_g = curve_fit(gauss,x,y, maxfev=8000)\n",
    "        plt.plot(x, gauss(x,*popt_g), linewidth=2.0)\n",
    "        \n",
    "        p0 = [popt_g[0],popt_g[1],popt_g[2], 1.0,1.0]\n",
    "        popt, pcov = curve_fit(degauss,x,y, maxfev=8000)\n",
    "        \n",
    "        plt.errorbar(x,y,yerr=np.sqrt(y)/len(y), marker='.', zorder=1)\n",
    "        plt.plot(x, degauss(x,*popt), c='#9467bd', linewidth=2.0)\n",
    "        \n",
    "        # find the FWHM\n",
    "        xs= np.linspace(0.7,1.5,100000)\n",
    "        hmx = half_max_x(xs,degauss(xs,*popt))\n",
    "        fwhm = hmx[1] - hmx[0]\n",
    "        \n",
    "        plt.axvline(popt[1]+NSIGMA*fwhm)\n",
    "        plt.axvline(popt[1]-NSIGMA*fwhm)\n",
    "        plt.show()\n",
    "        data.append(df[(df.electron_sector == sec)\n",
    "                       &(df.mm2 <= popt[1]+NSIGMA*fwhm)\n",
    "                       &(df.mm2 >= popt[1]-NSIGMA*fwhm)])\n",
    "        \n",
    "        print('{', end='')\n",
    "        for x in popt:\n",
    "            print(f'{x:.20f},', end='')\n",
    "        print('}')\n",
    "    return data"
   ]
  },
  {
   "cell_type": "code",
   "execution_count": null,
   "metadata": {
    "scrolled": false
   },
   "outputs": [],
   "source": [
    "data = mm_cut(df)\n",
    "all_data = pd.concat(data)"
   ]
  },
  {
   "cell_type": "code",
   "execution_count": null,
   "metadata": {},
   "outputs": [],
   "source": [
    "plt.figure(figsize=(12,9))\n",
    "for i in range(0,6):\n",
    "    y, x = np.histogram(data[i].mm2, bins=200, density=True, range=(0.8, 1.0))\n",
    "    x = (x[1:]+x[:-1])/2\n",
    "    plt.scatter(x[y!=0], y[y!=0], label=f'sector {i+1}')\n",
    "plt.legend()\n",
    "plt.show()"
   ]
  },
  {
   "cell_type": "code",
   "execution_count": null,
   "metadata": {
    "scrolled": false
   },
   "outputs": [],
   "source": [
    "plt.figure(figsize=(12,9))\n",
    "plt.hist2d(all_data.phi, all_data.cos_theta, bins=(10,15))\n",
    "plt.show()"
   ]
  },
  {
   "cell_type": "code",
   "execution_count": null,
   "metadata": {},
   "outputs": [],
   "source": [
    "NUM_BINS_W = 12\n",
    "NUM_BINS_Q2 = 4\n",
    "NUM_BINS_PHI = 12\n",
    "NUM_BINS_CT = 10\n",
    "\n",
    "W_MIN = 1.2\n",
    "W_MAX = 1.8\n",
    "Q2_MIN = 1.5\n",
    "Q2_MAX = 3.5\n",
    "\n",
    "\n",
    "\n",
    "plt.figure(figsize=(16,10))\n",
    "counts, w_bins, q2_bins, mesh = plt.hist2d(all_data.w,all_data.q2, \n",
    "                                           bins=(NUM_BINS_W, NUM_BINS_Q2), \n",
    "                                           range=((W_MIN, W_MAX),(Q2_MIN, Q2_MAX)), \n",
    "                                           density=True)\n",
    "plt.colorbar()\n",
    "plt.show()\n",
    "\n",
    "plt.figure(figsize=(16,10))\n",
    "counts, phi_bins, theta_bins, mesh = plt.hist2d(all_data.phi, all_data.cos_theta, \n",
    "                                                bins=(NUM_BINS_PHI, NUM_BINS_CT), \n",
    "                                                density=True)\n",
    "plt.colorbar()\n",
    "plt.show()"
   ]
  },
  {
   "cell_type": "code",
   "execution_count": null,
   "metadata": {},
   "outputs": [],
   "source": [
    "cross_sections = df[[\"w\",\"q2\",\"cos_theta\",\"phi\",\"helicty\"]].copy(deep=True)"
   ]
  },
  {
   "cell_type": "code",
   "execution_count": null,
   "metadata": {},
   "outputs": [],
   "source": [
    "cross_sections = df[[\"w\",\"q2\",\"cos_theta\",\"phi\",\"helicty\"]].copy(deep=True)\n",
    "w_bins = np.arange(1.2, 1.8, 0.025)\n",
    "q2_bins = np.arange(1.0, 3.5, 0.5)\n",
    "theta_bins = np.arange(-1.0, 1.0, 0.25)\n",
    "\n",
    "\n",
    "cross_sections['w_bin'] = pd.cut(cross_sections['w'], bins=w_bins, include_lowest=True)\n",
    "cross_sections['q2_bin'] = pd.cut(cross_sections['q2'], bins=q2_bins, include_lowest=True)\n",
    "cross_sections['theta_bin'] = pd.cut(cross_sections['cos_theta'], bins=theta_bins, include_lowest=True)\n",
    "\n",
    "\n",
    "\n",
    "cross_sections.dropna(inplace=True)\n",
    "\n",
    "cross_sections.head()"
   ]
  },
  {
   "cell_type": "code",
   "execution_count": null,
   "metadata": {},
   "outputs": [],
   "source": [
    "plt.hist2d(cross_sections.w,cross_sections.q2,bins=(len(w_bins),len(q2_bins)))\n",
    "plt.show()"
   ]
  },
  {
   "cell_type": "code",
   "execution_count": null,
   "metadata": {},
   "outputs": [],
   "source": [
    "pos = cross_sections[cross_sections.helicty == 1]\n",
    "neg = cross_sections[cross_sections.helicty == -1]"
   ]
  },
  {
   "cell_type": "code",
   "execution_count": null,
   "metadata": {},
   "outputs": [],
   "source": [
    "plt.hist2d(pos.w,pos.q2,bins=(len(w_bins),len(q2_bins)))\n",
    "plt.show()\n",
    "\n",
    "plt.hist2d(neg.w,neg.q2,bins=(len(w_bins),len(q2_bins)))\n",
    "plt.show()"
   ]
  },
  {
   "cell_type": "code",
   "execution_count": null,
   "metadata": {},
   "outputs": [],
   "source": [
    "pos_y,pos_x = np.histogram(pos[(pos.w_bin == np.unique(pos['w_bin'])[0]) & (pos.q2_bin == np.unique(pos['q2_bin'])[0])].phi, bins=10)\n",
    "pos_x = (pos_x[:-1]+pos_x[1:])/2.0\n",
    "\n",
    "neg_y,neg_x = np.histogram(neg[(neg.w_bin == np.unique(pos['w_bin'])[0]) & (neg.q2_bin == np.unique(pos['q2_bin'])[0])].phi, bins=10)\n",
    "neg_x = (neg_x[:-1]+neg_x[1:])/2.0\n",
    "\n",
    "plt.plot(pos_x,(pos_y-neg_y)/(pos_y+neg_y), '.')\n",
    "plt.show()"
   ]
  },
  {
   "cell_type": "code",
   "execution_count": null,
   "metadata": {},
   "outputs": [],
   "source": []
  }
 ],
 "metadata": {
  "kernelspec": {
   "display_name": "Python 3",
   "language": "python",
   "name": "python3"
  },
  "language_info": {
   "codemirror_mode": {
    "name": "ipython",
    "version": 3
   },
   "file_extension": ".py",
   "mimetype": "text/x-python",
   "name": "python",
   "nbconvert_exporter": "python",
   "pygments_lexer": "ipython3",
   "version": "3.7.7"
  }
 },
 "nbformat": 4,
 "nbformat_minor": 2
}
