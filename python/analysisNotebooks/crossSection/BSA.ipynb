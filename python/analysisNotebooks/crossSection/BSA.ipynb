{
 "cells": [
  {
   "cell_type": "code",
   "execution_count": 1,
   "metadata": {},
   "outputs": [],
   "source": [
    "%matplotlib inline\n",
    "import matplotlib.pyplot as plt\n",
    "import numpy as np\n",
    "\n",
    "#import pandas as pd\n",
    "import modin.pandas as pd\n",
    "\n",
    "from tqdm import tqdm\n",
    "from scipy.special import erfc\n",
    "\n",
    "from scipy.optimize import curve_fit\n",
    "from scipy import stats\n",
    "\n",
    "import warnings\n",
    "warnings.filterwarnings('ignore')\n",
    "\n",
    "import cm_xml_to_matplotlib as cm\n",
    "mycmap = cm.make_cmap('mellow-rainbow.xml')\n",
    "cmap = plt.get_cmap(mycmap)\n"
   ]
  },
  {
   "cell_type": "code",
   "execution_count": 2,
   "metadata": {},
   "outputs": [],
   "source": [
    "def model(x, a, b, c):\n",
    "    \"\"\"\n",
    "    a => sigma_l + sigma_t\n",
    "    b => epsilon*sigma_tt\n",
    "    c => Sqrt(2epsilon(1+epsilon))* sigma_lt\n",
    "    \"\"\"\n",
    "    f = a + b * np.cos(2*x) + c * np.cos(x)\n",
    "    return f\n",
    "\n",
    "def degauss(x, A, mu, sigma, lambda1, lambda2):\n",
    "    mu1 = sigma * sigma * lambda1 + x - mu\n",
    "    mu2 = -sigma * sigma * lambda2 + x - mu\n",
    "    ret = A * 0.5 / (1.0 / lambda1 + 1.0 / lambda2) * \\\n",
    "        (np.exp(0.5 * np.power(sigma * lambda1, 2) + lambda1 * (x - mu)) * erfc(mu1 / (sigma * np.sqrt(2.0))) \\\n",
    "         + np.exp(0.5 * np.power(sigma * lambda2, 2) - lambda2 * (x - mu)) * erfc(-mu2 / (sigma * np.sqrt(2.0))))\n",
    "\n",
    "    return ret\n",
    "\n",
    "def gauss(x, A, mu, sig):\n",
    "    ret = np.exp(-np.power(x - mu, 2.) / (2 * np.power(sig, 2.)))\n",
    "    return A*ret\n",
    "\n",
    "def peak(x, c):\n",
    "    return np.exp(-np.power(x - c, 2) / 16.0)\n",
    "\n",
    "def lin_interp(x, y, i, half):\n",
    "    return x[i] + (x[i+1] - x[i]) * ((half - y[i]) / (y[i+1] - y[i]))\n",
    "\n",
    "def half_max_x(x, y):\n",
    "    half = np.max(y)/2.0\n",
    "    signs = np.sign(np.add(y, -half))\n",
    "    zero_crossings = (signs[0:-2] != signs[1:-1])\n",
    "    zero_crossings_i = np.where(zero_crossings)[0]\n",
    "    return [lin_interp(x, y, zero_crossings_i[0], half),\n",
    "            lin_interp(x, y, zero_crossings_i[1], half)]\n"
   ]
  },
  {
   "cell_type": "code",
   "execution_count": null,
   "metadata": {
    "scrolled": false
   },
   "outputs": [],
   "source": [
    "%%time\n",
    "\n",
    "\n",
    "names = [\n",
    "    \"electron_sector\",\n",
    "    \"w\",\n",
    "    \"q2\",\n",
    "    \"theta\",\n",
    "    \"phi\",\n",
    "    \"mm2\",\n",
    "    \"helicty\",\n",
    "    \"type\"\n",
    "]\n",
    "dtype = {\n",
    "    \"electron_sector\": \"int8\",\n",
    "    \"helicty\": \"int8\",\n",
    "    \"w\": \"float32\",\n",
    "    \"q2\": \"float32\",\n",
    "    \"theta\": \"float32\",\n",
    "    \"phi\": \"float32\",\n",
    "    \"mm2\": \"float32\",\n",
    "}\n",
    "\n",
    "rec = pd.read_csv(\"/Users/tylern/Data/e1d/data/data_e1d.csv\", names=names, dtype=dtype, index_col=False)\n",
    "\n",
    "#rec = pd.read_feather(\"/Users/tylern/Data/ntuple/data_e1f.feather\")\n",
    "\n",
    "rec = rec[(rec.w > 0) & (rec.mm2 > 0.5) & (rec.mm2 < 1.5)]\n",
    "rec.drop([\"type\",\"hash\"], axis=1, inplace=True)\n",
    "rec['cos_theta'] = np.cos(rec.theta)\n",
    "\n",
    "\n",
    "rec.head()\n"
   ]
  },
  {
   "cell_type": "code",
   "execution_count": null,
   "metadata": {},
   "outputs": [],
   "source": [
    "rec.info(verbose=False, memory_usage=\"deep\")"
   ]
  },
  {
   "cell_type": "code",
   "execution_count": null,
   "metadata": {},
   "outputs": [],
   "source": [
    "fig, ax = plt.subplots(figsize=(12,9))\n",
    "ax.hist(rec.theta, bins=100, alpha=0.5, label='data', density=True)\n",
    "ax.legend()\n",
    "plt.show()\n",
    "\n",
    "fig, ax = plt.subplots(figsize=(12,9))\n",
    "ax.hist(rec.cos_theta, bins=100, alpha=0.5, label='data', density=True)\n",
    "\n",
    "ax.legend()\n",
    "plt.show()"
   ]
  },
  {
   "cell_type": "code",
   "execution_count": null,
   "metadata": {},
   "outputs": [],
   "source": [
    "fig, ax = plt.subplots(figsize=(12,9))\n",
    "ax.hist(rec.phi, bins=100, alpha=0.5,  label='$\\phi^{*}$ data', density=True)\n",
    "ax.legend()\n",
    "plt.show()"
   ]
  },
  {
   "cell_type": "code",
   "execution_count": null,
   "metadata": {},
   "outputs": [],
   "source": [
    "fig, ax = plt.subplots(figsize=(12,9))\n",
    "\n",
    "ax.hist(rec.mm2, bins=100, alpha=0.5, label='mc_rec', density=True)\n",
    "\n",
    "ax.legend()\n",
    "plt.show()"
   ]
  },
  {
   "cell_type": "code",
   "execution_count": null,
   "metadata": {
    "scrolled": false
   },
   "outputs": [],
   "source": [
    "def mm_cut(df):\n",
    "    NSIGMA = 3\n",
    "    data = {}\n",
    "    for sec in range(1,7):\n",
    "        plt.figure(figsize=(12,9))\n",
    "        y,x = np.histogram(df[df.electron_sector == sec].mm2, bins=500, density=True)\n",
    "        x=(x[1:]+x[:-1])/2\n",
    "        popt_g, pcov_g = curve_fit(gauss,x,y, maxfev=8000)\n",
    "        plt.plot(x, gauss(x,*popt_g), linewidth=2.0)\n",
    "        plt.errorbar(x,y,yerr=stats.sem(y), fmt='.', zorder=1)\n",
    "\n",
    "        plt.axvline(popt_g[1]+NSIGMA*popt_g[2])\n",
    "        plt.axvline(popt_g[1]-NSIGMA*popt_g[2])\n",
    "        \n",
    "        p0 = [popt_g[0],popt_g[1],popt_g[2], 1.0,1.0]\n",
    "        popt, pcov = curve_fit(degauss,x,y, maxfev=8000)\n",
    "        \n",
    "        plt.plot(x, degauss(x,*popt), c='#9467bd', linewidth=2.0)\n",
    "        \n",
    "        # find the FWHM\n",
    "        xs= np.linspace(0.7,1.5,100000)\n",
    "        hmx = half_max_x(xs, degauss(xs,*popt))\n",
    "        fwhm = hmx[1] - hmx[0]\n",
    "        plt.axvline(popt[1]+NSIGMA*fwhm/2.355, c='#9467bd')\n",
    "        plt.axvline(popt[1]-NSIGMA*fwhm/2.355, c='#9467bd')\n",
    "        \n",
    "        plt.show()\n",
    "\n",
    "        data[sec] = (popt_g[1]+NSIGMA*popt_g[2], popt_g[1]-NSIGMA*popt_g[2])\n",
    "        \n",
    "        print('{', end='')\n",
    "        for x in popt_g:\n",
    "            print(f' {x:.20f},', end='')\n",
    "        print('}')\n",
    "\n",
    "    return data"
   ]
  },
  {
   "cell_type": "code",
   "execution_count": null,
   "metadata": {
    "scrolled": false
   },
   "outputs": [],
   "source": [
    "sector_cuts = mm_cut(rec)"
   ]
  },
  {
   "cell_type": "code",
   "execution_count": null,
   "metadata": {},
   "outputs": [],
   "source": [
    "cuts = False\n",
    "mc_cuts = False\n",
    "\n",
    "for sec, min_max in sector_cuts.items():\n",
    "    print(min_max)\n",
    "    cuts |= ((rec.electron_sector == sec) & (rec.mm2 >= min_max[0]) &  (rec.mm2 <= min_max[1]))\n",
    "    print(np.sum(rec.mm2 >= min_max[0]))\n",
    "    #mc_cuts |= ((mc_rec.electron_sector == sec) & (mc_rec.mm2 >= min_max[0]) &  (mc_rec.mm2 <= min_max[1]))\n",
    "    \n",
    "#rec = rec[cuts]"
   ]
  },
  {
   "cell_type": "code",
   "execution_count": null,
   "metadata": {},
   "outputs": [],
   "source": [
    "# mc_rec = mc_rec[[\"w\",\"q2\",\"mm2\",\"cos_theta\",\"phi\",\"helicty\"]].copy(deep=True)\n",
    "# mc_thrown = mc_thrown[[\"w\",\"q2\",\"mm2\",\"cos_theta\",\"phi\",\"helicty\"]].copy(deep=True)\n",
    "# rec = rec[[\"w\",\"q2\",\"mm2\",\"cos_theta\",\"phi\",\"helicty\"]].copy(deep=True)\n",
    "\n",
    "# rec.head()"
   ]
  },
  {
   "cell_type": "code",
   "execution_count": null,
   "metadata": {},
   "outputs": [],
   "source": [
    "w_bins = np.arange(1.0, 1.8, 0.025)\n",
    "q2_bins = np.arange(1.0, 3.5, 0.5)\n",
    "theta_bins = np.arange(-1.0, 1.0, 0.25)\n",
    "\n",
    "rec['w_bin'] = pd.cut(rec['w'], bins=w_bins, include_lowest=True)\n",
    "rec['q2_bin'] = pd.cut(rec['q2'], bins=q2_bins, include_lowest=True)\n",
    "rec['theta_bin'] = pd.cut(rec['cos_theta'], bins=theta_bins, include_lowest=True)\n",
    "\n",
    "rec.dropna(inplace=True)"
   ]
  },
  {
   "cell_type": "code",
   "execution_count": null,
   "metadata": {},
   "outputs": [],
   "source": [
    "plt.hist2d(rec.w,rec.q2, cmap=cmap, bins=200)\n",
    "plt.title(\"Data W vs $Q^2$\")\n",
    "plt.show()\n",
    "\n",
    "plt.hist2d(rec.w,rec.q2,bins=(len(w_bins),len(q2_bins)), cmap=cmap)\n",
    "plt.show()"
   ]
  },
  {
   "cell_type": "code",
   "execution_count": null,
   "metadata": {},
   "outputs": [],
   "source": [
    "rec.head()"
   ]
  },
  {
   "cell_type": "code",
   "execution_count": null,
   "metadata": {
    "scrolled": false
   },
   "outputs": [],
   "source": [
    "def draw_bsa(rec, func):\n",
    "    xs = np.linspace(0,2*np.pi,100)\n",
    "    for w in np.unique(rec.w_bin):\n",
    "        for q2 in np.unique(rec.q2_bin):\n",
    "            for cos_t in np.unique(rec.theta_bin):\n",
    "                rec_cut = ((w == rec.w_bin) & (q2 == rec.q2_bin) & (cos_t == rec.theta_bin))\n",
    "                \n",
    "                data = rec[rec_cut]\n",
    "                pos = data[data.helicty == 1]\n",
    "                neg = data[data.helicty == -1]\n",
    "\n",
    "                fig, ax = plt.subplots(2, 2, figsize=(12,9))\n",
    "                fig.suptitle(f\"W={w},\\t$Q^2$={q2},\\tcos($\\Theta$)={cos_t}\")\n",
    "                for bins in range(10,11):\n",
    "                    pos_y, pos_x = np.histogram(pos.phi, bins=bins, range=(0, 2*np.pi))\n",
    "                    x = (pos_x[1:]+pos_x[:-1])/2.0\n",
    "                    neg_y, _ = np.histogram(neg.phi, bins=bins, range=(0, 2*np.pi))\n",
    "                                    \n",
    "                    # Change 0's to 1 for division\n",
    "                    num = pos_y - neg_y\n",
    "                    den = pos_y + neg_y\n",
    "                    den = np.where(den == 0, 1, den)\n",
    "\n",
    "                \n",
    "\n",
    "                    ax[0][0].errorbar(x, pos_y, marker='.',yerr=stats.sem(pos_y), \n",
    "                                      c='r', linestyle='', label='pos')\n",
    "                    ax[0][1].errorbar(x, neg_y, marker='.',yerr=stats.sem(neg_y), \n",
    "                                      c='orange', linestyle='', label='neg')\n",
    "                    \n",
    "                \n",
    "                    bsa = num/den\n",
    "                    ax[1][0].errorbar(x, bsa, yerr=stats.sem(bsa),\n",
    "                                      marker='.', c='g', linestyle='',label='acceptance')\n",
    "                \n",
    "                \n",
    "                    popt, pcov = curve_fit(func, x, bsa, maxfev=8000)\n",
    "                    ax[1][1].errorbar(x, bsa, yerr=stats.sem(bsa), marker='.', \n",
    "                                      linestyle='', c='k', zorder=1, label='corrected')\n",
    "                \n",
    "                    plt.plot(xs, func(xs, *popt), c='#9467bd', linewidth=2.0)\n",
    "                \n",
    "\n",
    "                fig.legend()\n",
    "                plt.show()\n",
    "                # print(f'W: [{w.left},{w.right}] Q2: [{q2.left},{q2.right}] \n",
    "                # cos(theta): [{cos_t.left},{cos_t.right}].png')\n",
    "                #plt.close()\n"
   ]
  },
  {
   "cell_type": "code",
   "execution_count": null,
   "metadata": {
    "scrolled": false
   },
   "outputs": [],
   "source": [
    "draw_bsa(rec, model)"
   ]
  },
  {
   "cell_type": "code",
   "execution_count": null,
   "metadata": {},
   "outputs": [],
   "source": [
    "plt.hist(mc_thrown.w, bins=200, alpha=0.2)\n",
    "plt.hist(mc_rec.w, bins=200, alpha=0.5)\n",
    "plt.show()"
   ]
  },
  {
   "cell_type": "code",
   "execution_count": null,
   "metadata": {
    "scrolled": false
   },
   "outputs": [],
   "source": [
    "rec.head()"
   ]
  },
  {
   "cell_type": "code",
   "execution_count": null,
   "metadata": {},
   "outputs": [],
   "source": []
  }
 ],
 "metadata": {
  "kernelspec": {
   "display_name": "Python 3",
   "language": "python",
   "name": "python3"
  },
  "language_info": {
   "codemirror_mode": {
    "name": "ipython",
    "version": 3
   },
   "file_extension": ".py",
   "mimetype": "text/x-python",
   "name": "python",
   "nbconvert_exporter": "python",
   "pygments_lexer": "ipython3",
   "version": "3.8.5"
  }
 },
 "nbformat": 4,
 "nbformat_minor": 2
}
