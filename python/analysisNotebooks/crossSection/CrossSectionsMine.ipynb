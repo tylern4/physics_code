{
 "cells": [
  {
   "cell_type": "code",
   "execution_count": 1,
   "metadata": {},
   "outputs": [
    {
     "name": "stdout",
     "output_type": "stream",
     "text": [
      "Welcome to JupyROOT 6.22/00\n"
     ]
    }
   ],
   "source": [
    "%matplotlib inline\n",
    "import matplotlib.pyplot as plt\n",
    "import numpy as np\n",
    "import seaborn as sns\n",
    "import root_pandas as rp\n",
    "import pandas as pd\n",
    "from tqdm import tqdm\n",
    "import lmfit\n",
    "\n",
    "from scipy.optimize import curve_fit"
   ]
  },
  {
   "cell_type": "code",
   "execution_count": 2,
   "metadata": {},
   "outputs": [],
   "source": [
    "def func(x, a, b, c):\n",
    "    \"\"\"\n",
    "    a => sigma_l + sigma_t\n",
    "    b => epsilon*sigma_tt\n",
    "    c => Sqrt(2epsilon(1+epsilon))* sigma_lt\n",
    "    \"\"\"\n",
    "    f = a + b * np.cos(2*x) + c * np.cos(x)\n",
    "    return f"
   ]
  },
  {
   "cell_type": "code",
   "execution_count": 3,
   "metadata": {},
   "outputs": [
    {
     "name": "stdout",
     "output_type": "stream",
     "text": [
      "['thrown']\n"
     ]
    },
    {
     "data": {
      "text/html": [
       "<div>\n",
       "<style scoped>\n",
       "    .dataframe tbody tr th:only-of-type {\n",
       "        vertical-align: middle;\n",
       "    }\n",
       "\n",
       "    .dataframe tbody tr th {\n",
       "        vertical-align: top;\n",
       "    }\n",
       "\n",
       "    .dataframe thead th {\n",
       "        text-align: right;\n",
       "    }\n",
       "</style>\n",
       "<table border=\"1\" class=\"dataframe\">\n",
       "  <thead>\n",
       "    <tr style=\"text-align: right;\">\n",
       "      <th></th>\n",
       "      <th>electron_sector</th>\n",
       "      <th>w</th>\n",
       "      <th>q2</th>\n",
       "      <th>theta</th>\n",
       "      <th>phi</th>\n",
       "      <th>mm2</th>\n",
       "      <th>e_p</th>\n",
       "      <th>e_cx</th>\n",
       "      <th>e_cy</th>\n",
       "      <th>e_cz</th>\n",
       "      <th>pip_p</th>\n",
       "      <th>pip_cx</th>\n",
       "      <th>pip_cy</th>\n",
       "      <th>pip_cz</th>\n",
       "      <th>helicty</th>\n",
       "      <th>type</th>\n",
       "      <th>cos_theta</th>\n",
       "    </tr>\n",
       "  </thead>\n",
       "  <tbody>\n",
       "    <tr>\n",
       "      <th>0</th>\n",
       "      <td>1</td>\n",
       "      <td>1.516318</td>\n",
       "      <td>3.459555</td>\n",
       "      <td>0.841126</td>\n",
       "      <td>4.068208</td>\n",
       "      <td>0.885597</td>\n",
       "      <td>2.217824</td>\n",
       "      <td>0.521540</td>\n",
       "      <td>0.158973</td>\n",
       "      <td>0.838286</td>\n",
       "      <td>0.805973</td>\n",
       "      <td>-0.446309</td>\n",
       "      <td>-0.596841</td>\n",
       "      <td>0.666775</td>\n",
       "      <td>-1</td>\n",
       "      <td>thrown</td>\n",
       "      <td>0.666624</td>\n",
       "    </tr>\n",
       "    <tr>\n",
       "      <th>1</th>\n",
       "      <td>4</td>\n",
       "      <td>1.500320</td>\n",
       "      <td>2.723559</td>\n",
       "      <td>0.543050</td>\n",
       "      <td>6.035233</td>\n",
       "      <td>0.950231</td>\n",
       "      <td>2.618047</td>\n",
       "      <td>-0.449140</td>\n",
       "      <td>-0.044632</td>\n",
       "      <td>0.892346</td>\n",
       "      <td>1.492096</td>\n",
       "      <td>0.502729</td>\n",
       "      <td>-0.132447</td>\n",
       "      <td>0.854237</td>\n",
       "      <td>1</td>\n",
       "      <td>thrown</td>\n",
       "      <td>0.856136</td>\n",
       "    </tr>\n",
       "    <tr>\n",
       "      <th>2</th>\n",
       "      <td>3</td>\n",
       "      <td>1.381427</td>\n",
       "      <td>2.810229</td>\n",
       "      <td>0.337767</td>\n",
       "      <td>4.122570</td>\n",
       "      <td>2.132325</td>\n",
       "      <td>2.242035</td>\n",
       "      <td>-0.084970</td>\n",
       "      <td>0.444420</td>\n",
       "      <td>0.891779</td>\n",
       "      <td>0.971727</td>\n",
       "      <td>-0.181330</td>\n",
       "      <td>-0.274681</td>\n",
       "      <td>0.944283</td>\n",
       "      <td>1</td>\n",
       "      <td>thrown</td>\n",
       "      <td>0.943497</td>\n",
       "    </tr>\n",
       "    <tr>\n",
       "      <th>3</th>\n",
       "      <td>4</td>\n",
       "      <td>1.299580</td>\n",
       "      <td>1.639527</td>\n",
       "      <td>0.724594</td>\n",
       "      <td>2.952941</td>\n",
       "      <td>3.511885</td>\n",
       "      <td>0.785165</td>\n",
       "      <td>-0.651910</td>\n",
       "      <td>0.115342</td>\n",
       "      <td>0.749473</td>\n",
       "      <td>1.821354</td>\n",
       "      <td>0.226930</td>\n",
       "      <td>-0.223313</td>\n",
       "      <td>0.947963</td>\n",
       "      <td>-1</td>\n",
       "      <td>thrown</td>\n",
       "      <td>0.748769</td>\n",
       "    </tr>\n",
       "    <tr>\n",
       "      <th>4</th>\n",
       "      <td>4</td>\n",
       "      <td>1.521985</td>\n",
       "      <td>2.529635</td>\n",
       "      <td>0.630622</td>\n",
       "      <td>6.149587</td>\n",
       "      <td>0.887706</td>\n",
       "      <td>2.707839</td>\n",
       "      <td>-0.429074</td>\n",
       "      <td>-0.022313</td>\n",
       "      <td>0.902994</td>\n",
       "      <td>1.530091</td>\n",
       "      <td>0.583107</td>\n",
       "      <td>-0.081728</td>\n",
       "      <td>0.808274</td>\n",
       "      <td>1</td>\n",
       "      <td>thrown</td>\n",
       "      <td>0.807661</td>\n",
       "    </tr>\n",
       "  </tbody>\n",
       "</table>\n",
       "</div>"
      ],
      "text/plain": [
       "   electron_sector         w        q2     theta       phi       mm2  \\\n",
       "0                1  1.516318  3.459555  0.841126  4.068208  0.885597   \n",
       "1                4  1.500320  2.723559  0.543050  6.035233  0.950231   \n",
       "2                3  1.381427  2.810229  0.337767  4.122570  2.132325   \n",
       "3                4  1.299580  1.639527  0.724594  2.952941  3.511885   \n",
       "4                4  1.521985  2.529635  0.630622  6.149587  0.887706   \n",
       "\n",
       "        e_p      e_cx      e_cy      e_cz     pip_p    pip_cx    pip_cy  \\\n",
       "0  2.217824  0.521540  0.158973  0.838286  0.805973 -0.446309 -0.596841   \n",
       "1  2.618047 -0.449140 -0.044632  0.892346  1.492096  0.502729 -0.132447   \n",
       "2  2.242035 -0.084970  0.444420  0.891779  0.971727 -0.181330 -0.274681   \n",
       "3  0.785165 -0.651910  0.115342  0.749473  1.821354  0.226930 -0.223313   \n",
       "4  2.707839 -0.429074 -0.022313  0.902994  1.530091  0.583107 -0.081728   \n",
       "\n",
       "     pip_cz  helicty    type  cos_theta  \n",
       "0  0.666775       -1  thrown   0.666624  \n",
       "1  0.854237        1  thrown   0.856136  \n",
       "2  0.944283        1  thrown   0.943497  \n",
       "3  0.947963       -1  thrown   0.748769  \n",
       "4  0.808274        1  thrown   0.807661  "
      ]
     },
     "execution_count": 3,
     "metadata": {},
     "output_type": "execute_result"
    }
   ],
   "source": [
    "rec_df = pd.read_csv(\"/Users/tylern/physics_code/build/test_mc.csv\")\n",
    "rec_df = rec_df[rec_df.type == \"thrown\"]\n",
    "rec_df['cos_theta'] = np.cos(rec_df.theta)\n",
    "print(rec_df.type.unique())\n",
    "rec_df.head()"
   ]
  },
  {
   "cell_type": "code",
   "execution_count": 4,
   "metadata": {},
   "outputs": [
    {
     "data": {
      "image/png": "[encoded data removed]",
      "text/plain": [
       "<Figure size 432x288 with 1 Axes>"
      ]
     },
     "metadata": {
      "needs_background": "light"
     },
     "output_type": "display_data"
    }
   ],
   "source": [
    "plt.hist(rec_df.w, bins=500, range=[0,3])\n",
    "plt.show()"
   ]
  },
  {
   "cell_type": "code",
   "execution_count": 5,
   "metadata": {
    "scrolled": false
   },
   "outputs": [],
   "source": [
    "def print_and_plot_cross_sections(df):    \n",
    "    #fig = plt.figure(figsize=(16,9))\n",
    "    x = np.linspace(0, 2*np.pi, num=500)\n",
    "    for w in tqdm(np.unique(df.w)):\n",
    "        for q2 in np.sort(np.unique(df.q2)):\n",
    "            for theta in np.unique(df.cos_theta):\n",
    "                # print(w,q2,theta)\n",
    "                d = df[(df.w == w) & (df.q2 == q2) & (df.cos_theta == theta)]\n",
    "                if len(d) >= 5:\n",
    "                    fig = plt.figure(figsize=(16,9))\n",
    "                    #fig = plt.figure(figsize=(12,9))\n",
    "                    plt.title(f\"Bin\\nW: {w}\\nQ2: {q2}\\nCos(Theta): {theta}\")\n",
    "                    plt.xlim(0, 2*np.pi)\n",
    "                    p0 = [np.mean(d.y), 1.0, 1.0]\n",
    "                    plt.errorbar(d.phi, d.y, d.yerr, fmt='o', alpha=0.5)\n",
    "                    try:\n",
    "                        popt, pcov = curve_fit(func, d.phi, d.y, p0=p0, maxfev=800)\n",
    "                        plt.plot(x, func(x, *popt), 'g--')\n",
    "                    except RuntimeError:\n",
    "                        pass\n",
    "                    except TypeError:\n",
    "                        pass\n",
    "                    \n",
    "                    plt.savefig(f'W_{w}_Q2_{q2}_cosT_{theta}.png')\n",
    "                    \n",
    "                    \n",
    "                    \n",
    "                \n",
    "        "
   ]
  },
  {
   "cell_type": "code",
   "execution_count": 6,
   "metadata": {
    "scrolled": false
   },
   "outputs": [],
   "source": [
    "#print_and_plot_cross_sections(df)"
   ]
  },
  {
   "cell_type": "code",
   "execution_count": 7,
   "metadata": {},
   "outputs": [],
   "source": [
    "def mcmc_plot_cross_sections(df):    \n",
    "    x = np.linspace(0, 2*np.pi, num=500)\n",
    "    for w in tqdm(np.unique(df.w)):\n",
    "        for q2 in np.sort(np.unique(df.q2)):\n",
    "            for theta in np.unique(df.cos_theta):\n",
    "                d = df[(df.w == w) & (df.q2 == q2) & (df.cos_theta == theta)]\n",
    "                if len(d) >= 5:\n",
    "                    fig = plt.figure(figsize=(16,9))\n",
    "                    plt.title(f\"Bin\\nW: {w}\\nQ2: {q2}\\nCos(Theta): {theta}\")\n",
    "                    plt.xlim(0, 2*np.pi)\n",
    "                    p0 = [np.mean(d.y), 1.0, 1.0]\n",
    "                    plt.errorbar(d.phi, d.y, d.yerr, fmt='o', alpha=0.5)\n",
    "                    try:\n",
    "                        \n",
    "                        popt, pcov = curve_fit(func, d.phi, d.y, p0=p0, maxfev=800)\n",
    "                        a = popt[0]\n",
    "                        b = popt[1]\n",
    "                        c = popt[2]\n",
    "                        plt.plot(x, func(x, *popt), 'g--', \n",
    "                                 label=f'curve_fit: a = {a:0.3f}, b = {b:0.3f}, c = {c:0.3f}')\n",
    "                        \n",
    "                        \n",
    "#                         model = lmfit.Model(func)\n",
    "#                         p = model.make_params(a=a, b=b, c=c)\n",
    "                        \n",
    "#                         emcee_kws = dict(steps=1000, burn=300, thin=600, is_weighted=False,\n",
    "#                                      progress=False)\n",
    "#                         result_mcmc = model.fit(data=d.y, params=p, x=d.phi, method='emcee', \n",
    "#                                           nan_policy='omit',fit_kws=emcee_kws)\n",
    "                        \n",
    "#                         a = result_mcmc.params['a'].value\n",
    "#                         b = result_mcmc.params['b'].value\n",
    "#                         c = result_mcmc.params['c'].value\n",
    "#                         plt.plot(x, model.eval(params=result_mcmc.params, x=x), 'r--', \n",
    "#                                 label=f'mcmc: a = {a:0.3f}, b = {b:0.3f}, c = {c:0.3f}')\n",
    "                        \n",
    "                    except RuntimeError:\n",
    "                        print(\"RuntimeError\")\n",
    "                        pass\n",
    "                    except TypeError:\n",
    "                        print(\"TypeError\")\n",
    "                        pass\n",
    "                    plt.legend()\n",
    "                    plt.savefig(f'plots/mcmc_W_{w:0.3f}_Q2_{q2:0.3f}_cosT_{theta:0.3f}.png')\n",
    "                    #plt.close()\n",
    "                    "
   ]
  },
  {
   "cell_type": "code",
   "execution_count": 8,
   "metadata": {
    "scrolled": false
   },
   "outputs": [
    {
     "name": "stderr",
     "output_type": "stream",
     "text": [
      "  0%|          | 0/1217025 [01:15<?, ?it/s]\n"
     ]
    },
    {
     "ename": "KeyboardInterrupt",
     "evalue": "",
     "output_type": "error",
     "traceback": [
      "\u001b[0;31m---------------------------------------------------------------------------\u001b[0m",
      "\u001b[0;31mKeyboardInterrupt\u001b[0m                         Traceback (most recent call last)",
      "\u001b[0;32m<ipython-input-8-5d9f6b73692a>\u001b[0m in \u001b[0;36m<module>\u001b[0;34m\u001b[0m\n\u001b[0;32m----> 1\u001b[0;31m \u001b[0mmcmc_plot_cross_sections\u001b[0m\u001b[0;34m(\u001b[0m\u001b[0mrec_df\u001b[0m\u001b[0;34m)\u001b[0m\u001b[0;34m\u001b[0m\u001b[0;34m\u001b[0m\u001b[0m\n\u001b[0m",
      "\u001b[0;32m<ipython-input-7-08e7e92e4dec>\u001b[0m in \u001b[0;36mmcmc_plot_cross_sections\u001b[0;34m(df)\u001b[0m\n\u001b[1;32m      4\u001b[0m         \u001b[0;32mfor\u001b[0m \u001b[0mq2\u001b[0m \u001b[0;32min\u001b[0m \u001b[0mnp\u001b[0m\u001b[0;34m.\u001b[0m\u001b[0msort\u001b[0m\u001b[0;34m(\u001b[0m\u001b[0mnp\u001b[0m\u001b[0;34m.\u001b[0m\u001b[0munique\u001b[0m\u001b[0;34m(\u001b[0m\u001b[0mdf\u001b[0m\u001b[0;34m.\u001b[0m\u001b[0mq2\u001b[0m\u001b[0;34m)\u001b[0m\u001b[0;34m)\u001b[0m\u001b[0;34m:\u001b[0m\u001b[0;34m\u001b[0m\u001b[0;34m\u001b[0m\u001b[0m\n\u001b[1;32m      5\u001b[0m             \u001b[0;32mfor\u001b[0m \u001b[0mtheta\u001b[0m \u001b[0;32min\u001b[0m \u001b[0mnp\u001b[0m\u001b[0;34m.\u001b[0m\u001b[0munique\u001b[0m\u001b[0;34m(\u001b[0m\u001b[0mdf\u001b[0m\u001b[0;34m.\u001b[0m\u001b[0mcos_theta\u001b[0m\u001b[0;34m)\u001b[0m\u001b[0;34m:\u001b[0m\u001b[0;34m\u001b[0m\u001b[0;34m\u001b[0m\u001b[0m\n\u001b[0;32m----> 6\u001b[0;31m                 \u001b[0md\u001b[0m \u001b[0;34m=\u001b[0m \u001b[0mdf\u001b[0m\u001b[0;34m[\u001b[0m\u001b[0;34m(\u001b[0m\u001b[0mdf\u001b[0m\u001b[0;34m.\u001b[0m\u001b[0mw\u001b[0m \u001b[0;34m==\u001b[0m \u001b[0mw\u001b[0m\u001b[0;34m)\u001b[0m \u001b[0;34m&\u001b[0m \u001b[0;34m(\u001b[0m\u001b[0mdf\u001b[0m\u001b[0;34m.\u001b[0m\u001b[0mq2\u001b[0m \u001b[0;34m==\u001b[0m \u001b[0mq2\u001b[0m\u001b[0;34m)\u001b[0m \u001b[0;34m&\u001b[0m \u001b[0;34m(\u001b[0m\u001b[0mdf\u001b[0m\u001b[0;34m.\u001b[0m\u001b[0mcos_theta\u001b[0m \u001b[0;34m==\u001b[0m \u001b[0mtheta\u001b[0m\u001b[0;34m)\u001b[0m\u001b[0;34m]\u001b[0m\u001b[0;34m\u001b[0m\u001b[0;34m\u001b[0m\u001b[0m\n\u001b[0m\u001b[1;32m      7\u001b[0m                 \u001b[0;32mif\u001b[0m \u001b[0mlen\u001b[0m\u001b[0;34m(\u001b[0m\u001b[0md\u001b[0m\u001b[0;34m)\u001b[0m \u001b[0;34m>=\u001b[0m \u001b[0;36m5\u001b[0m\u001b[0;34m:\u001b[0m\u001b[0;34m\u001b[0m\u001b[0;34m\u001b[0m\u001b[0m\n\u001b[1;32m      8\u001b[0m                     \u001b[0mfig\u001b[0m \u001b[0;34m=\u001b[0m \u001b[0mplt\u001b[0m\u001b[0;34m.\u001b[0m\u001b[0mfigure\u001b[0m\u001b[0;34m(\u001b[0m\u001b[0mfigsize\u001b[0m\u001b[0;34m=\u001b[0m\u001b[0;34m(\u001b[0m\u001b[0;36m16\u001b[0m\u001b[0;34m,\u001b[0m\u001b[0;36m9\u001b[0m\u001b[0;34m)\u001b[0m\u001b[0;34m)\u001b[0m\u001b[0;34m\u001b[0m\u001b[0;34m\u001b[0m\u001b[0m\n",
      "\u001b[0;32m/usr/local/lib/python3.8/site-packages/pandas/core/ops/common.py\u001b[0m in \u001b[0;36mnew_method\u001b[0;34m(self, other)\u001b[0m\n\u001b[1;32m     62\u001b[0m         \u001b[0mother\u001b[0m \u001b[0;34m=\u001b[0m \u001b[0mitem_from_zerodim\u001b[0m\u001b[0;34m(\u001b[0m\u001b[0mother\u001b[0m\u001b[0;34m)\u001b[0m\u001b[0;34m\u001b[0m\u001b[0;34m\u001b[0m\u001b[0m\n\u001b[1;32m     63\u001b[0m \u001b[0;34m\u001b[0m\u001b[0m\n\u001b[0;32m---> 64\u001b[0;31m         \u001b[0;32mreturn\u001b[0m \u001b[0mmethod\u001b[0m\u001b[0;34m(\u001b[0m\u001b[0mself\u001b[0m\u001b[0;34m,\u001b[0m \u001b[0mother\u001b[0m\u001b[0;34m)\u001b[0m\u001b[0;34m\u001b[0m\u001b[0;34m\u001b[0m\u001b[0m\n\u001b[0m\u001b[1;32m     65\u001b[0m \u001b[0;34m\u001b[0m\u001b[0m\n\u001b[1;32m     66\u001b[0m     \u001b[0;32mreturn\u001b[0m \u001b[0mnew_method\u001b[0m\u001b[0;34m\u001b[0m\u001b[0;34m\u001b[0m\u001b[0m\n",
      "\u001b[0;32m/usr/local/lib/python3.8/site-packages/pandas/core/ops/__init__.py\u001b[0m in \u001b[0;36mwrapper\u001b[0;34m(self, other)\u001b[0m\n\u001b[1;32m    527\u001b[0m         \u001b[0mrvalues\u001b[0m \u001b[0;34m=\u001b[0m \u001b[0mextract_array\u001b[0m\u001b[0;34m(\u001b[0m\u001b[0mother\u001b[0m\u001b[0;34m,\u001b[0m \u001b[0mextract_numpy\u001b[0m\u001b[0;34m=\u001b[0m\u001b[0;32mTrue\u001b[0m\u001b[0;34m)\u001b[0m\u001b[0;34m\u001b[0m\u001b[0;34m\u001b[0m\u001b[0m\n\u001b[1;32m    528\u001b[0m \u001b[0;34m\u001b[0m\u001b[0m\n\u001b[0;32m--> 529\u001b[0;31m         \u001b[0mres_values\u001b[0m \u001b[0;34m=\u001b[0m \u001b[0mcomparison_op\u001b[0m\u001b[0;34m(\u001b[0m\u001b[0mlvalues\u001b[0m\u001b[0;34m,\u001b[0m \u001b[0mrvalues\u001b[0m\u001b[0;34m,\u001b[0m \u001b[0mop\u001b[0m\u001b[0;34m)\u001b[0m\u001b[0;34m\u001b[0m\u001b[0;34m\u001b[0m\u001b[0m\n\u001b[0m\u001b[1;32m    530\u001b[0m \u001b[0;34m\u001b[0m\u001b[0m\n\u001b[1;32m    531\u001b[0m         \u001b[0;32mreturn\u001b[0m \u001b[0m_construct_result\u001b[0m\u001b[0;34m(\u001b[0m\u001b[0mself\u001b[0m\u001b[0;34m,\u001b[0m \u001b[0mres_values\u001b[0m\u001b[0;34m,\u001b[0m \u001b[0mindex\u001b[0m\u001b[0;34m=\u001b[0m\u001b[0mself\u001b[0m\u001b[0;34m.\u001b[0m\u001b[0mindex\u001b[0m\u001b[0;34m,\u001b[0m \u001b[0mname\u001b[0m\u001b[0;34m=\u001b[0m\u001b[0mres_name\u001b[0m\u001b[0;34m)\u001b[0m\u001b[0;34m\u001b[0m\u001b[0;34m\u001b[0m\u001b[0m\n",
      "\u001b[0;32m/usr/local/lib/python3.8/site-packages/pandas/core/ops/array_ops.py\u001b[0m in \u001b[0;36mcomparison_op\u001b[0;34m(left, right, op)\u001b[0m\n\u001b[1;32m    251\u001b[0m         \u001b[0mmethod\u001b[0m \u001b[0;34m=\u001b[0m \u001b[0mgetattr\u001b[0m\u001b[0;34m(\u001b[0m\u001b[0mlvalues\u001b[0m\u001b[0;34m,\u001b[0m \u001b[0mop_name\u001b[0m\u001b[0;34m)\u001b[0m\u001b[0;34m\u001b[0m\u001b[0;34m\u001b[0m\u001b[0m\n\u001b[1;32m    252\u001b[0m         \u001b[0;32mwith\u001b[0m \u001b[0mnp\u001b[0m\u001b[0;34m.\u001b[0m\u001b[0merrstate\u001b[0m\u001b[0;34m(\u001b[0m\u001b[0mall\u001b[0m\u001b[0;34m=\u001b[0m\u001b[0;34m\"ignore\"\u001b[0m\u001b[0;34m)\u001b[0m\u001b[0;34m:\u001b[0m\u001b[0;34m\u001b[0m\u001b[0;34m\u001b[0m\u001b[0m\n\u001b[0;32m--> 253\u001b[0;31m             \u001b[0mres_values\u001b[0m \u001b[0;34m=\u001b[0m \u001b[0mmethod\u001b[0m\u001b[0;34m(\u001b[0m\u001b[0mrvalues\u001b[0m\u001b[0;34m)\u001b[0m\u001b[0;34m\u001b[0m\u001b[0;34m\u001b[0m\u001b[0m\n\u001b[0m\u001b[1;32m    254\u001b[0m \u001b[0;34m\u001b[0m\u001b[0m\n\u001b[1;32m    255\u001b[0m         \u001b[0;32mif\u001b[0m \u001b[0mres_values\u001b[0m \u001b[0;32mis\u001b[0m \u001b[0mNotImplemented\u001b[0m\u001b[0;34m:\u001b[0m\u001b[0;34m\u001b[0m\u001b[0;34m\u001b[0m\u001b[0m\n",
      "\u001b[0;31mKeyboardInterrupt\u001b[0m: "
     ]
    }
   ],
   "source": [
    "mcmc_plot_cross_sections(rec_df)"
   ]
  },
  {
   "cell_type": "code",
   "execution_count": null,
   "metadata": {},
   "outputs": [],
   "source": [
    "fig = plt.figure(figsize=(16,9))\n",
    "plt.hist2d(df.w, df.q2, bins=(len(np.unique(df.w)),len(np.unique(df.q2))))\n",
    "plt.colorbar()\n",
    "plt.show()"
   ]
  },
  {
   "cell_type": "code",
   "execution_count": null,
   "metadata": {},
   "outputs": [],
   "source": []
  }
 ],
 "metadata": {
  "kernelspec": {
   "display_name": "Python 3",
   "language": "python",
   "name": "python3"
  },
  "language_info": {
   "codemirror_mode": {
    "name": "ipython",
    "version": 3
   },
   "file_extension": ".py",
   "mimetype": "text/x-python",
   "name": "python",
   "nbconvert_exporter": "python",
   "pygments_lexer": "ipython3",
   "version": "3.8.4"
  }
 },
 "nbformat": 4,
 "nbformat_minor": 2
}
