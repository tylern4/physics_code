{
 "cells": [
  {
   "cell_type": "code",
   "execution_count": 1,
   "metadata": {},
   "outputs": [],
   "source": [
    "import pandas as pd"
   ]
  },
  {
   "cell_type": "code",
   "execution_count": 2,
   "metadata": {},
   "outputs": [],
   "source": [
    "names = [\"electron_sector\", \"w\", \"q2\", \"theta\", \"phi\", \"mm2\", \"helicty\", \"type\", \"hash\"]\n",
    "dtype={\"electron_sector\": \"int8\", \"helicty\": \"int8\", \"w\": \"float32\", \"q2\": \"float32\", \"theta\": \"float32\", \"phi\": \"float32\", \"mm2\": \"float32\", \"type\": \"category\"}\n",
    "df = pd.read_csv(\"/Users/tylern/Data/ntuple/test_e1f.csv\", names=names, index_col=False, dtype=dtype)"
   ]
  },
  {
   "cell_type": "code",
   "execution_count": 3,
   "metadata": {},
   "outputs": [
    {
     "data": {
      "text/html": [
       "<div>\n",
       "<style scoped>\n",
       "    .dataframe tbody tr th:only-of-type {\n",
       "        vertical-align: middle;\n",
       "    }\n",
       "\n",
       "    .dataframe tbody tr th {\n",
       "        vertical-align: top;\n",
       "    }\n",
       "\n",
       "    .dataframe thead th {\n",
       "        text-align: right;\n",
       "    }\n",
       "</style>\n",
       "<table border=\"1\" class=\"dataframe\">\n",
       "  <thead>\n",
       "    <tr style=\"text-align: right;\">\n",
       "      <th></th>\n",
       "      <th>electron_sector</th>\n",
       "      <th>w</th>\n",
       "      <th>q2</th>\n",
       "      <th>theta</th>\n",
       "      <th>phi</th>\n",
       "      <th>mm2</th>\n",
       "      <th>helicty</th>\n",
       "      <th>type</th>\n",
       "      <th>hash</th>\n",
       "    </tr>\n",
       "  </thead>\n",
       "  <tbody>\n",
       "    <tr>\n",
       "      <th>0</th>\n",
       "      <td>5</td>\n",
       "      <td>1.44407</td>\n",
       "      <td>0.956499</td>\n",
       "      <td>0.984369</td>\n",
       "      <td>0.268892</td>\n",
       "      <td>0.881017</td>\n",
       "      <td>1</td>\n",
       "      <td>thrown</td>\n",
       "      <td>af6ded061f92e8bd</td>\n",
       "    </tr>\n",
       "    <tr>\n",
       "      <th>1</th>\n",
       "      <td>5</td>\n",
       "      <td>1.48541</td>\n",
       "      <td>0.935162</td>\n",
       "      <td>1.580650</td>\n",
       "      <td>3.826140</td>\n",
       "      <td>0.902442</td>\n",
       "      <td>1</td>\n",
       "      <td>thrown</td>\n",
       "      <td>80bdf0c57a0e18ea</td>\n",
       "    </tr>\n",
       "    <tr>\n",
       "      <th>2</th>\n",
       "      <td>5</td>\n",
       "      <td>1.45978</td>\n",
       "      <td>0.909779</td>\n",
       "      <td>1.247890</td>\n",
       "      <td>2.213470</td>\n",
       "      <td>0.887796</td>\n",
       "      <td>1</td>\n",
       "      <td>thrown</td>\n",
       "      <td>53f274f760918563</td>\n",
       "    </tr>\n",
       "    <tr>\n",
       "      <th>3</th>\n",
       "      <td>3</td>\n",
       "      <td>1.70176</td>\n",
       "      <td>0.925147</td>\n",
       "      <td>0.421457</td>\n",
       "      <td>4.947000</td>\n",
       "      <td>0.881994</td>\n",
       "      <td>-1</td>\n",
       "      <td>thrown</td>\n",
       "      <td>8f8dd2ce8a43a312</td>\n",
       "    </tr>\n",
       "    <tr>\n",
       "      <th>4</th>\n",
       "      <td>4</td>\n",
       "      <td>1.64896</td>\n",
       "      <td>1.274580</td>\n",
       "      <td>0.480194</td>\n",
       "      <td>6.100780</td>\n",
       "      <td>0.894600</td>\n",
       "      <td>-1</td>\n",
       "      <td>thrown</td>\n",
       "      <td>1d1e7007cab0058c</td>\n",
       "    </tr>\n",
       "  </tbody>\n",
       "</table>\n",
       "</div>"
      ],
      "text/plain": [
       "   electron_sector        w        q2     theta       phi       mm2  helicty  \\\n",
       "0                5  1.44407  0.956499  0.984369  0.268892  0.881017        1   \n",
       "1                5  1.48541  0.935162  1.580650  3.826140  0.902442        1   \n",
       "2                5  1.45978  0.909779  1.247890  2.213470  0.887796        1   \n",
       "3                3  1.70176  0.925147  0.421457  4.947000  0.881994       -1   \n",
       "4                4  1.64896  1.274580  0.480194  6.100780  0.894600       -1   \n",
       "\n",
       "     type              hash  \n",
       "0  thrown  af6ded061f92e8bd  \n",
       "1  thrown  80bdf0c57a0e18ea  \n",
       "2  thrown  53f274f760918563  \n",
       "3  thrown  8f8dd2ce8a43a312  \n",
       "4  thrown  1d1e7007cab0058c  "
      ]
     },
     "execution_count": 3,
     "metadata": {},
     "output_type": "execute_result"
    }
   ],
   "source": [
    "df.head()"
   ]
  },
  {
   "cell_type": "code",
   "execution_count": 11,
   "metadata": {},
   "outputs": [
    {
     "ename": "TypeError",
     "evalue": "to_feather() got an unexpected keyword argument 'compression_level'",
     "output_type": "error",
     "traceback": [
      "\u001b[0;31m---------------------------------------------------------------------------\u001b[0m",
      "\u001b[0;31mTypeError\u001b[0m                                 Traceback (most recent call last)",
      "\u001b[0;32m<ipython-input-11-50eff8abbbe1>\u001b[0m in \u001b[0;36m<module>\u001b[0;34m\u001b[0m\n\u001b[0;32m----> 1\u001b[0;31m \u001b[0mdf\u001b[0m\u001b[0;34m.\u001b[0m\u001b[0mto_feather\u001b[0m\u001b[0;34m(\u001b[0m\u001b[0;34m\"/Users/tylern/Data/ntuple/test_e1f.feather\"\u001b[0m\u001b[0;34m,\u001b[0m \u001b[0mcompression_level\u001b[0m\u001b[0;34m=\u001b[0m\u001b[0;36m9\u001b[0m\u001b[0;34m)\u001b[0m\u001b[0;34m\u001b[0m\u001b[0;34m\u001b[0m\u001b[0m\n\u001b[0m",
      "\u001b[0;32m/usr/local/lib/python3.8/site-packages/pandas/util/_decorators.py\u001b[0m in \u001b[0;36mwrapper\u001b[0;34m(*args, **kwargs)\u001b[0m\n\u001b[1;32m    212\u001b[0m                 \u001b[0;32melse\u001b[0m\u001b[0;34m:\u001b[0m\u001b[0;34m\u001b[0m\u001b[0;34m\u001b[0m\u001b[0m\n\u001b[1;32m    213\u001b[0m                     \u001b[0mkwargs\u001b[0m\u001b[0;34m[\u001b[0m\u001b[0mnew_arg_name\u001b[0m\u001b[0;34m]\u001b[0m \u001b[0;34m=\u001b[0m \u001b[0mnew_arg_value\u001b[0m\u001b[0;34m\u001b[0m\u001b[0;34m\u001b[0m\u001b[0m\n\u001b[0;32m--> 214\u001b[0;31m             \u001b[0;32mreturn\u001b[0m \u001b[0mfunc\u001b[0m\u001b[0;34m(\u001b[0m\u001b[0;34m*\u001b[0m\u001b[0margs\u001b[0m\u001b[0;34m,\u001b[0m \u001b[0;34m**\u001b[0m\u001b[0mkwargs\u001b[0m\u001b[0;34m)\u001b[0m\u001b[0;34m\u001b[0m\u001b[0;34m\u001b[0m\u001b[0m\n\u001b[0m\u001b[1;32m    215\u001b[0m \u001b[0;34m\u001b[0m\u001b[0m\n\u001b[1;32m    216\u001b[0m         \u001b[0;32mreturn\u001b[0m \u001b[0mcast\u001b[0m\u001b[0;34m(\u001b[0m\u001b[0mF\u001b[0m\u001b[0;34m,\u001b[0m \u001b[0mwrapper\u001b[0m\u001b[0;34m)\u001b[0m\u001b[0;34m\u001b[0m\u001b[0;34m\u001b[0m\u001b[0m\n",
      "\u001b[0;31mTypeError\u001b[0m: to_feather() got an unexpected keyword argument 'compression_level'"
     ]
    }
   ],
   "source": [
    "df.to_feather(\"/Users/tylern/Data/ntuple/test_e1f.feather\", compression_level=9)"
   ]
  },
  {
   "cell_type": "code",
   "execution_count": 9,
   "metadata": {},
   "outputs": [],
   "source": [
    "x = pd.read_feather(\"/Users/tylern/Data/ntuple/test_e1f.feather\")"
   ]
  },
  {
   "cell_type": "code",
   "execution_count": 10,
   "metadata": {},
   "outputs": [
    {
     "data": {
      "text/html": [
       "<div>\n",
       "<style scoped>\n",
       "    .dataframe tbody tr th:only-of-type {\n",
       "        vertical-align: middle;\n",
       "    }\n",
       "\n",
       "    .dataframe tbody tr th {\n",
       "        vertical-align: top;\n",
       "    }\n",
       "\n",
       "    .dataframe thead th {\n",
       "        text-align: right;\n",
       "    }\n",
       "</style>\n",
       "<table border=\"1\" class=\"dataframe\">\n",
       "  <thead>\n",
       "    <tr style=\"text-align: right;\">\n",
       "      <th></th>\n",
       "      <th>electron_sector</th>\n",
       "      <th>w</th>\n",
       "      <th>q2</th>\n",
       "      <th>theta</th>\n",
       "      <th>phi</th>\n",
       "      <th>mm2</th>\n",
       "      <th>helicty</th>\n",
       "      <th>type</th>\n",
       "      <th>hash</th>\n",
       "    </tr>\n",
       "  </thead>\n",
       "  <tbody>\n",
       "    <tr>\n",
       "      <th>0</th>\n",
       "      <td>5</td>\n",
       "      <td>1.44407</td>\n",
       "      <td>0.956499</td>\n",
       "      <td>0.984369</td>\n",
       "      <td>0.268892</td>\n",
       "      <td>0.881017</td>\n",
       "      <td>1</td>\n",
       "      <td>thrown</td>\n",
       "      <td>af6ded061f92e8bd</td>\n",
       "    </tr>\n",
       "    <tr>\n",
       "      <th>1</th>\n",
       "      <td>5</td>\n",
       "      <td>1.48541</td>\n",
       "      <td>0.935162</td>\n",
       "      <td>1.580650</td>\n",
       "      <td>3.826140</td>\n",
       "      <td>0.902442</td>\n",
       "      <td>1</td>\n",
       "      <td>thrown</td>\n",
       "      <td>80bdf0c57a0e18ea</td>\n",
       "    </tr>\n",
       "    <tr>\n",
       "      <th>2</th>\n",
       "      <td>5</td>\n",
       "      <td>1.45978</td>\n",
       "      <td>0.909779</td>\n",
       "      <td>1.247890</td>\n",
       "      <td>2.213470</td>\n",
       "      <td>0.887796</td>\n",
       "      <td>1</td>\n",
       "      <td>thrown</td>\n",
       "      <td>53f274f760918563</td>\n",
       "    </tr>\n",
       "    <tr>\n",
       "      <th>3</th>\n",
       "      <td>3</td>\n",
       "      <td>1.70176</td>\n",
       "      <td>0.925147</td>\n",
       "      <td>0.421457</td>\n",
       "      <td>4.947000</td>\n",
       "      <td>0.881994</td>\n",
       "      <td>-1</td>\n",
       "      <td>thrown</td>\n",
       "      <td>8f8dd2ce8a43a312</td>\n",
       "    </tr>\n",
       "    <tr>\n",
       "      <th>4</th>\n",
       "      <td>4</td>\n",
       "      <td>1.64896</td>\n",
       "      <td>1.274580</td>\n",
       "      <td>0.480194</td>\n",
       "      <td>6.100780</td>\n",
       "      <td>0.894600</td>\n",
       "      <td>-1</td>\n",
       "      <td>thrown</td>\n",
       "      <td>1d1e7007cab0058c</td>\n",
       "    </tr>\n",
       "  </tbody>\n",
       "</table>\n",
       "</div>"
      ],
      "text/plain": [
       "   electron_sector        w        q2     theta       phi       mm2  helicty  \\\n",
       "0                5  1.44407  0.956499  0.984369  0.268892  0.881017        1   \n",
       "1                5  1.48541  0.935162  1.580650  3.826140  0.902442        1   \n",
       "2                5  1.45978  0.909779  1.247890  2.213470  0.887796        1   \n",
       "3                3  1.70176  0.925147  0.421457  4.947000  0.881994       -1   \n",
       "4                4  1.64896  1.274580  0.480194  6.100780  0.894600       -1   \n",
       "\n",
       "     type              hash  \n",
       "0  thrown  af6ded061f92e8bd  \n",
       "1  thrown  80bdf0c57a0e18ea  \n",
       "2  thrown  53f274f760918563  \n",
       "3  thrown  8f8dd2ce8a43a312  \n",
       "4  thrown  1d1e7007cab0058c  "
      ]
     },
     "execution_count": 10,
     "metadata": {},
     "output_type": "execute_result"
    }
   ],
   "source": [
    "x.head()"
   ]
  },
  {
   "cell_type": "code",
   "execution_count": 12,
   "metadata": {},
   "outputs": [
    {
     "data": {
      "text/plain": [
       "'1.0.5'"
      ]
     },
     "execution_count": 12,
     "metadata": {},
     "output_type": "execute_result"
    }
   ],
   "source": [
    "pd.__version__"
   ]
  },
  {
   "cell_type": "code",
   "execution_count": null,
   "metadata": {},
   "outputs": [],
   "source": []
  }
 ],
 "metadata": {
  "kernelspec": {
   "display_name": "Python 3",
   "language": "python",
   "name": "python3"
  },
  "language_info": {
   "codemirror_mode": {
    "name": "ipython",
    "version": 3
   },
   "file_extension": ".py",
   "mimetype": "text/x-python",
   "name": "python",
   "nbconvert_exporter": "python",
   "pygments_lexer": "ipython3",
   "version": "3.8.4"
  }
 },
 "nbformat": 4,
 "nbformat_minor": 4
}
