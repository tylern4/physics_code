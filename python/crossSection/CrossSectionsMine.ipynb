{
 "cells": [
  {
   "cell_type": "code",
   "execution_count": null,
   "metadata": {},
   "outputs": [],
   "source": [
    "%matplotlib inline\n",
    "import matplotlib.pyplot as plt\n",
    "import numpy as np\n",
    "import seaborn as sns\n",
    "import root_pandas as rp\n",
    "import pandas as pd\n",
    "from tqdm import tqdm\n",
    "import lmfit\n",
    "\n",
    "from scipy.optimize import curve_fit"
   ]
  },
  {
   "cell_type": "code",
   "execution_count": null,
   "metadata": {},
   "outputs": [],
   "source": [
    "def func(x, a, b, c):\n",
    "    \"\"\"\n",
    "    a => sigma_l + sigma_t\n",
    "    b => epsilon*sigma_tt\n",
    "    c => Sqrt(2epsilon(1+epsilon))* sigma_lt\n",
    "    \"\"\"\n",
    "    f = a + b * np.cos(2*x) + c * np.cos(x)\n",
    "    return f"
   ]
  },
  {
   "cell_type": "code",
   "execution_count": null,
   "metadata": {},
   "outputs": [],
   "source": [
    "df = pd.read_csv(\"cross_section.txt\")\n",
    "df.head()"
   ]
  },
  {
   "cell_type": "code",
   "execution_count": null,
   "metadata": {
    "scrolled": false
   },
   "outputs": [],
   "source": [
    "def print_and_plot_cross_sections(df):    \n",
    "    #fig = plt.figure(figsize=(16,9))\n",
    "    x = np.linspace(0, 2*np.pi, num=500)\n",
    "    for w in tqdm(np.unique(df.w)):\n",
    "        for q2 in np.sort(np.unique(df.q2)):\n",
    "            for theta in np.unique(df.cos_theta):\n",
    "                # print(w,q2,theta)\n",
    "                d = df[(df.w == w) & (df.q2 == q2) & (df.cos_theta == theta)]\n",
    "                if len(d) >= 5:\n",
    "                    fig = plt.figure(figsize=(16,9))\n",
    "                    #fig = plt.figure(figsize=(12,9))\n",
    "                    plt.title(f\"Bin\\nW: {w}\\nQ2: {q2}\\nCos(Theta): {theta}\")\n",
    "                    plt.xlim(0, 2*np.pi)\n",
    "                    p0 = [np.mean(d.y), 1.0, 1.0]\n",
    "                    plt.errorbar(d.phi, d.y, d.yerr, fmt='o', alpha=0.5)\n",
    "                    try:\n",
    "                        popt, pcov = curve_fit(func, d.phi, d.y, p0=p0, maxfev=800)\n",
    "                        plt.plot(x, func(x, *popt), 'g--')\n",
    "                    except RuntimeError:\n",
    "                        pass\n",
    "                    except TypeError:\n",
    "                        pass\n",
    "                    \n",
    "                    plt.savefig(f'W_{w}_Q2_{q2}_cosT_{theta}.png')\n",
    "                    \n",
    "                    \n",
    "                    \n",
    "                \n",
    "        "
   ]
  },
  {
   "cell_type": "code",
   "execution_count": null,
   "metadata": {
    "scrolled": false
   },
   "outputs": [],
   "source": [
    "#print_and_plot_cross_sections(df)"
   ]
  },
  {
   "cell_type": "code",
   "execution_count": null,
   "metadata": {},
   "outputs": [],
   "source": [
    "def mcmc_plot_cross_sections(df):    \n",
    "    x = np.linspace(0, 2*np.pi, num=500)\n",
    "    for w in tqdm(np.unique(df.w)):\n",
    "        for q2 in np.sort(np.unique(df.q2)):\n",
    "            for theta in np.unique(df.cos_theta):\n",
    "                d = df[(df.w == w) & (df.q2 == q2) & (df.cos_theta == theta)]\n",
    "                if len(d) >= 5:\n",
    "                    fig = plt.figure(figsize=(16,9))\n",
    "                    plt.title(f\"Bin\\nW: {w}\\nQ2: {q2}\\nCos(Theta): {theta}\")\n",
    "                    plt.xlim(0, 2*np.pi)\n",
    "                    p0 = [np.mean(d.y), 1.0, 1.0]\n",
    "                    plt.errorbar(d.phi, d.y, d.yerr, fmt='o', alpha=0.5)\n",
    "                    try:\n",
    "                        \n",
    "                        popt, pcov = curve_fit(func, d.phi, d.y, p0=p0, maxfev=800)\n",
    "                        a = popt[0]\n",
    "                        b = popt[1]\n",
    "                        c = popt[2]\n",
    "                        plt.plot(x, func(x, *popt), 'g--', \n",
    "                                 label=f'curve_fit: a = {a:0.3f}, b = {b:0.3f}, c = {c:0.3f}')\n",
    "                        \n",
    "                        \n",
    "#                         model = lmfit.Model(func)\n",
    "#                         p = model.make_params(a=a, b=b, c=c)\n",
    "                        \n",
    "#                         emcee_kws = dict(steps=1000, burn=300, thin=600, is_weighted=False,\n",
    "#                                      progress=False)\n",
    "#                         result_mcmc = model.fit(data=d.y, params=p, x=d.phi, method='emcee', \n",
    "#                                           nan_policy='omit',fit_kws=emcee_kws)\n",
    "                        \n",
    "#                         a = result_mcmc.params['a'].value\n",
    "#                         b = result_mcmc.params['b'].value\n",
    "#                         c = result_mcmc.params['c'].value\n",
    "#                         plt.plot(x, model.eval(params=result_mcmc.params, x=x), 'r--', \n",
    "#                                 label=f'mcmc: a = {a:0.3f}, b = {b:0.3f}, c = {c:0.3f}')\n",
    "                        \n",
    "                    except RuntimeError:\n",
    "                        print(\"RuntimeError\")\n",
    "                        pass\n",
    "                    except TypeError:\n",
    "                        print(\"TypeError\")\n",
    "                        pass\n",
    "                    plt.legend()\n",
    "                    plt.savefig(f'plots/mcmc_W_{w:0.3f}_Q2_{q2:0.3f}_cosT_{theta:0.3f}.png')\n",
    "                    #plt.close()\n",
    "                    "
   ]
  },
  {
   "cell_type": "code",
   "execution_count": null,
   "metadata": {
    "scrolled": false
   },
   "outputs": [],
   "source": [
    "mcmc_plot_cross_sections(df)"
   ]
  },
  {
   "cell_type": "code",
   "execution_count": null,
   "metadata": {},
   "outputs": [],
   "source": [
    "fig = plt.figure(figsize=(16,9))\n",
    "plt.hist2d(df.w, df.q2, bins=(len(np.unique(df.w)),len(np.unique(df.q2))))\n",
    "plt.colorbar()\n",
    "plt.show()"
   ]
  },
  {
   "cell_type": "code",
   "execution_count": null,
   "metadata": {},
   "outputs": [],
   "source": []
  }
 ],
 "metadata": {
  "kernelspec": {
   "display_name": "Python 3",
   "language": "python",
   "name": "python3"
  },
  "language_info": {
   "codemirror_mode": {
    "name": "ipython",
    "version": 3
   },
   "file_extension": ".py",
   "mimetype": "text/x-python",
   "name": "python",
   "nbconvert_exporter": "python",
   "pygments_lexer": "ipython3",
   "version": "3.8.4"
  }
 },
 "nbformat": 4,
 "nbformat_minor": 2
}
