{
 "cells": [
  {
   "cell_type": "code",
   "execution_count": null,
   "id": "fourth-client",
   "metadata": {},
   "outputs": [],
   "source": [
    "std::cout << \"Hello\\n\";"
   ]
  },
  {
   "cell_type": "code",
   "execution_count": null,
   "id": "brilliant-assurance",
   "metadata": {},
   "outputs": [],
   "source": []
  }
 ],
 "metadata": {
  "kernelspec": {
   "display_name": "ROOT C++",
   "language": "c++",
   "name": "root"
  },
  "language_info": {
   "codemirror_mode": {
    "name": "ipython",
    "version": 3
   },
   "file_extension": ".py",
   "mimetype": "text/x-python",
   "name": "python",
   "nbconvert_exporter": "python",
   "pygments_lexer": "ipython3",
   "version": "3.8.6"
  }
 },
 "nbformat": 4,
 "nbformat_minor": 5
}
