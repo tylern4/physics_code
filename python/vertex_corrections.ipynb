{
 "cells": [
  {
   "cell_type": "code",
   "execution_count": 1,
   "metadata": {},
   "outputs": [
    {
     "name": "stdout",
     "output_type": "stream",
     "text": [
      "Welcome to JupyROOT 6.20/06\n"
     ]
    }
   ],
   "source": [
    "%matplotlib inline\n",
    "%load_ext Cython\n",
    "%load_ext wurlitzer\n",
    "\n",
    "import h10\n",
    "import matplotlib.pyplot as plt\n",
    "import numpy as np\n",
    "import boost_histogram as bh\n",
    "import functools\n",
    "import operator\n",
    "\n",
    "from tqdm import tqdm\n",
    "\n",
    "from ROOT import TH1D, TH2D\n",
    "\n",
    "def good_event(event):\n",
    "    if event.dc_sect.size == 0 or event.dc_vz.size == 0:\n",
    "        return False\n",
    "    if event.p.size == 0:\n",
    "        return False\n",
    "    \n",
    "    return True\n",
    "    "
   ]
  },
  {
   "cell_type": "code",
   "execution_count": 2,
   "metadata": {},
   "outputs": [
    {
     "name": "stdout",
     "output_type": "stream",
     "text": [
      "1600121\n"
     ]
    }
   ],
   "source": [
    "root_reader = h10.h10_data()\n",
    "#root_reader.add(\"/Volumes/LaCiE/physics/e1d/v2/empty/*.root\")\n",
    "root_reader.add(\"/Users/tylern/Data/e1d/test/*.root\")\n",
    "\n",
    "# empty_target = h10.h10_data()\n",
    "# empty_target.add(\"/Volumes/LaCiE/physics/e1d/v2/empty/*.root\")\n",
    "\n",
    "# root_reader = h10.h10_mc()\n",
    "# root_reader.add(\"/Users/tylern/Data/e1d/sim/e1d_osg_4065835_144*.root\")\n",
    "\n",
    "print(root_reader.num_entries)"
   ]
  },
  {
   "cell_type": "code",
   "execution_count": null,
   "metadata": {
    "scrolled": false
   },
   "outputs": [],
   "source": [
    "root_reader.reset()\n",
    "vz = dict()\n",
    "vz_vs_phi = dict()\n",
    "\n",
    "vz_vs_phi_all = bh.Histogram(bh.axis.Regular(100, -6, 10, metadata=\"Vertex_z\"),\n",
    "                                 bh.axis.Regular(\n",
    "                                     100, -np.pi, np.pi, metadata=\"phi\"),\n",
    "                                 bh.axis.IntCategory([1,2,3,4,5,6], metadata=\"sector\")\n",
    "                                 )\n",
    "\n",
    "for i in range(1, 7):\n",
    "    vz[i] = bh.Histogram(bh.axis.Regular(100, -6, 10))\n",
    "    vz_vs_phi[i] = bh.Histogram(bh.axis.Regular(100, -6, 10), \n",
    "                                bh.axis.Regular(100, -np.pi, np.pi))\n",
    "\n",
    "\n",
    "with tqdm(total=root_reader.num_entries) as pbar:\n",
    "    for event in root_reader:\n",
    "        pbar.update(1)\n",
    "        if not good_event(event):\n",
    "            continue\n",
    "\n",
    "        sector = event.dc_sect[0]\n",
    "        \n",
    "        vz[sector].fill(event.dc_vz[0])\n",
    "\n",
    "        phi = np.arctan2(event.cx[0], event.cy[0])\n",
    "        vz_vs_phi[sector].fill(event.dc_vz[0], phi)\n",
    "        vz_vs_phi_all.fill(event.dc_vz[0], phi, int(sector))\n"
   ]
  },
  {
   "cell_type": "code",
   "execution_count": 3,
   "metadata": {},
   "outputs": [
    {
     "name": "stderr",
     "output_type": "stream",
     "text": [
      "1600122it [02:44, 9733.80it/s]                              "
     ]
    },
    {
     "name": "stdout",
     "output_type": "stream",
     "text": [
      "CPU times: user 2min 40s, sys: 11.9 s, total: 2min 52s\n",
      "Wall time: 2min 44s\n"
     ]
    },
    {
     "name": "stderr",
     "output_type": "stream",
     "text": [
      "\n"
     ]
    }
   ],
   "source": [
    "%%time\n",
    "root_reader.reset()\n",
    "vz = dict()\n",
    "vz_vs_phi = dict()\n",
    "\n",
    "\n",
    "for i in range(1, 7):\n",
    "    vz[i] = bh.Histogram(bh.axis.Regular(100, -6, 10))\n",
    "    vz_vs_phi[i] = bh.Histogram(bh.axis.Regular(100, -6, 10), \n",
    "                                bh.axis.Regular(100, -np.pi, np.pi))\n",
    "\n",
    "\n",
    "with tqdm(total=root_reader.num_entries) as pbar:\n",
    "    for event in root_reader:\n",
    "        pbar.update(1)\n",
    "        if not good_event(event):\n",
    "            continue\n",
    "\n",
    "        sector = event.dc_sect[0]\n",
    "        _vz = event.dc_vz[0]\n",
    "        \n",
    "        vz[sector].fill(_vz)\n",
    "\n",
    "        phi = np.arctan2(event.cx[0], event.cy[0])\n",
    "        vz_vs_phi[sector].fill(_vz, phi)\n",
    "        "
   ]
  },
  {
   "cell_type": "code",
   "execution_count": 5,
   "metadata": {},
   "outputs": [
    {
     "name": "stderr",
     "output_type": "stream",
     "text": [
      "1600122it [01:09, 22905.17it/s]                             "
     ]
    },
    {
     "name": "stdout",
     "output_type": "stream",
     "text": [
      "CPU times: user 1min 7s, sys: 2.8 s, total: 1min 10s\n",
      "Wall time: 1min 9s\n"
     ]
    },
    {
     "name": "stderr",
     "output_type": "stream",
     "text": [
      "\n"
     ]
    }
   ],
   "source": [
    "%%time\n",
    "root_reader.reset()\n",
    "vz = dict()\n",
    "vz_vs_phi = dict()\n",
    "\n",
    "\n",
    "for i in range(1, 7):\n",
    "    vz[i] = TH1D(f\"vz_{i}\",f\"vz_{i}\",100, -6, 10)\n",
    "    vz_vs_phi[i] = TH2D(f\"vz_vs_phi_{i}\",f\"vz_vs_phi_{i}\",100, -6, 10, 100, -np.pi, np.pi)\n",
    "\n",
    "\n",
    "with tqdm(total=root_reader.num_entries) as pbar:\n",
    "    for event in root_reader:\n",
    "        pbar.update(1)\n",
    "        if not good_event(event):\n",
    "            continue\n",
    "\n",
    "        sector = event.dc_sect[0]\n",
    "        _vz = event.dc_vz[0]\n",
    "        \n",
    "        vz[sector].Fill(_vz)\n",
    "\n",
    "        phi = np.arctan2(event.cx[0], event.cy[0])\n",
    "        vz_vs_phi[sector].Fill(_vz, phi)\n",
    "       "
   ]
  },
  {
   "cell_type": "code",
   "execution_count": null,
   "metadata": {},
   "outputs": [],
   "source": [
    "fig, ax = plt.subplots(figsize=[12,9])\n",
    "total = bh.Histogram(bh.axis.Regular(100, -6, 10))\n",
    "for i in range(1, 7):\n",
    "    total = total + vz[i]\n",
    "    y, x = vz[i].to_numpy()\n",
    "    y = y / np.max(y)\n",
    "    x = (x[1:] + x[:-1]) / 2.0\n",
    "    #plt.scatter(x,y, s=0.2)\n",
    "\n",
    "    x_val = np.where(y >= 0.2)[0][0]\n",
    "    print(np.round(x[x_val],4))\n",
    "    #plt.axvline(x[x_val])\n",
    "    \n",
    "    #ax.scatter(x-x[x_val],y, s=0.2)\n",
    "    ax.plot(x-x[x_val],y)\n",
    "\n",
    "\n",
    "# fig1, ax1 = plt.subplots(figsize=[12,9])\n",
    "# y1, x1 = total.to_numpy()\n",
    "# y1 = y1 / np.max(y1)\n",
    "# ax1.scatter(x1[1:],y1, s=0.8)"
   ]
  },
  {
   "cell_type": "code",
   "execution_count": null,
   "metadata": {},
   "outputs": [],
   "source": [
    "for i in range(1,7):\n",
    "    # Compute the areas of each bin\n",
    "    areas = functools.reduce(operator.mul, vz_vs_phi[i].axes.widths)\n",
    "\n",
    "    # Compute the density\n",
    "    density = vz_vs_phi[i].view() / vz_vs_phi[i].sum() / areas\n",
    "\n",
    "    # Make the plot\n",
    "    fig, ax = plt.subplots()\n",
    "    mesh = ax.pcolormesh(*vz_vs_phi[i].axes.edges.T, density.T)"
   ]
  },
  {
   "cell_type": "code",
   "execution_count": null,
   "metadata": {},
   "outputs": [],
   "source": [
    "# Compute the areas of each bin\n",
    "areas = functools.reduce(operator.mul, vz_vs_phi_all.project(0,1).axes.widths)\n",
    "\n",
    "# Compute the density\n",
    "density = vz_vs_phi_all.project(0,1).view() / vz_vs_phi_all.project(0,1).sum() / areas\n",
    "\n",
    "# Make the plot\n",
    "fig, ax = plt.subplots(figsize=[12,8])\n",
    "mesh = ax.pcolormesh(*vz_vs_phi_all.project(0,1).axes.edges.T, density.T)\n",
    "fig.colorbar(mesh, ax=ax)"
   ]
  },
  {
   "cell_type": "code",
   "execution_count": null,
   "metadata": {},
   "outputs": [],
   "source": [
    "vz_vs_phi_all.project(0)"
   ]
  },
  {
   "cell_type": "code",
   "execution_count": null,
   "metadata": {},
   "outputs": [],
   "source": [
    "plt.plot(vz_vs_phi_all.project(0,1));"
   ]
  },
  {
   "cell_type": "code",
   "execution_count": null,
   "metadata": {},
   "outputs": [],
   "source": []
  }
 ],
 "metadata": {
  "kernelspec": {
   "display_name": "Python 3",
   "language": "python",
   "name": "python3"
  },
  "language_info": {
   "codemirror_mode": {
    "name": "ipython",
    "version": 3
   },
   "file_extension": ".py",
   "mimetype": "text/x-python",
   "name": "python",
   "nbconvert_exporter": "python",
   "pygments_lexer": "ipython3",
   "version": "3.8.5"
  }
 },
 "nbformat": 4,
 "nbformat_minor": 4
}
