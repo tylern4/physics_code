{
 "cells": [
  {
   "cell_type": "code",
   "execution_count": null,
   "id": "recent-poison",
   "metadata": {},
   "outputs": [
    {
     "name": "stdout",
     "output_type": "stream",
     "text": [
      "   ------------------------------------------------------------------\n",
      "\n",
      "\n",
      "  | Welcome to ROOT 6.22/06                        https://root.cern |\n",
      "\n",
      "\n",
      "  | (c) 1995-2020, The ROOT Team; conception: R. Brun, F. Rademakers |\n",
      "\n",
      "\n",
      "  | Built for linuxx8664gcc on Nov 27 2020, 15:14:08                 |\n",
      "\n",
      "\n",
      "  | From tags/v6-22-06@v6-22-06                                      |\n",
      "\n",
      "\n",
      "  | Try '.help', '.demo', '.license', '.credits', '.quit'/'.q'       |\n",
      "\n",
      "\n",
      "   ------------------------------------------------------------------\n",
      "\n",
      "\n",
      "\n"
     ]
    }
   ],
   "source": [
    "!root -b"
   ]
  },
  {
   "cell_type": "code",
   "execution_count": null,
   "id": "retained-smoke",
   "metadata": {},
   "outputs": [],
   "source": []
  }
 ],
 "metadata": {
  "kernelspec": {
   "display_name": "ROOT C++",
   "language": "c++",
   "name": "root"
  },
  "language_info": {
   "codemirror_mode": "text/x-c++src",
   "file_extension": ".C",
   "mimetype": " text/x-c++src",
   "name": "c++"
  }
 },
 "nbformat": 4,
 "nbformat_minor": 5
}
