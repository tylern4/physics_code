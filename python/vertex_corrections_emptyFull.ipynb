{
 "cells": [
  {
   "cell_type": "code",
   "execution_count": null,
   "metadata": {},
   "outputs": [],
   "source": [
    "%matplotlib inline\n",
    "%load_ext Cython\n",
    "\n",
    "import h10\n",
    "import matplotlib.pyplot as plt\n",
    "import numpy as np\n",
    "import boost_histogram as bh\n",
    "import functools\n",
    "import operator\n",
    "\n",
    "from tqdm import tqdm\n",
    "\n",
    "from glob import glob\n",
    "import concurrent\n",
    "from multiprocessing import Pool\n",
    "\n",
    "def good_event(event):\n",
    "    if event.dc_sect.size == 0 or event.dc_vz.size == 0:\n",
    "        return False\n",
    "    if event.p.size == 0:\n",
    "        return False\n",
    "    \n",
    "    return True\n",
    "    "
   ]
  },
  {
   "cell_type": "code",
   "execution_count": 8,
   "metadata": {},
   "outputs": [],
   "source": [
    "def run_file(root_reader):\n",
    "    vz = dict()\n",
    "    vz_vs_phi = dict()\n",
    "\n",
    "    vz_vs_phi_all = bh.Histogram(bh.axis.Regular(100, -6, 10), bh.axis.Regular(100, -np.pi, np.pi))\n",
    "\n",
    "\n",
    "    for i in range(1, 7):\n",
    "        vz[i] = bh.Histogram(bh.axis.Regular(100, -6, 10))\n",
    "        vz_vs_phi[i] = bh.Histogram(bh.axis.Regular(100, -6, 10), \n",
    "                                    bh.axis.Regular(100, -np.pi, np.pi))\n",
    "\n",
    "    with tqdm(total=root_reader.num_entries) as pbar:\n",
    "        for event in root_reader:\n",
    "            pbar.update(1)\n",
    "            if not good_event(event):\n",
    "                continue\n",
    "\n",
    "            sector = event.dc_sect[0]\n",
    "\n",
    "            vz[sector].fill(event.dc_vz[0])\n",
    "\n",
    "            phi = np.arctan2(event.cx[0], event.cy[0])\n",
    "            vz_vs_phi[sector].fill(event.dc_vz[0], phi)\n",
    "            vz_vs_phi_all.fill(event.dc_vz[0], phi)\n",
    "\n",
    "\n",
    "\n",
    "    return {'vz': vz,'vz_vs_phi': vz_vs_phi,'vz_vs_phi_all': vz_vs_phi_all}"
   ]
  },
  {
   "cell_type": "code",
   "execution_count": 9,
   "metadata": {
    "scrolled": false
   },
   "outputs": [],
   "source": [
    "data_reader = h10.h10_data()\n",
    "data_reader.add(\"/Volumes/LaCiE/physics/e1d/v2/H2_full/h10_r230*\")\n",
    "\n",
    "empty_reader = h10.h10_data()\n",
    "empty_reader.add(\"/Volumes/LaCiE/physics/e1d/v2/empty/*.root\")"
   ]
  },
  {
   "cell_type": "code",
   "execution_count": 10,
   "metadata": {},
   "outputs": [
    {
     "ename": "KeyboardInterrupt",
     "evalue": "",
     "output_type": "error",
     "traceback": [
      "\u001b[0;31m---------------------------------------------------------------------------\u001b[0m",
      "\u001b[0;31mKeyboardInterrupt\u001b[0m                         Traceback (most recent call last)",
      "\u001b[0;32m<ipython-input-10-fdfcc94c5ce6>\u001b[0m in \u001b[0;36m<module>\u001b[0;34m\u001b[0m\n\u001b[0;32m----> 1\u001b[0;31m \u001b[0mfull\u001b[0m \u001b[0;34m=\u001b[0m \u001b[0mrun_file\u001b[0m\u001b[0;34m(\u001b[0m\u001b[0mdata_reader\u001b[0m\u001b[0;34m)\u001b[0m\u001b[0;34m\u001b[0m\u001b[0;34m\u001b[0m\u001b[0m\n\u001b[0m\u001b[1;32m      2\u001b[0m \u001b[0mempty\u001b[0m \u001b[0;34m=\u001b[0m \u001b[0mrun_file\u001b[0m\u001b[0;34m(\u001b[0m\u001b[0mempty_reader\u001b[0m\u001b[0;34m)\u001b[0m\u001b[0;34m\u001b[0m\u001b[0;34m\u001b[0m\u001b[0m\n",
      "\u001b[0;32m<ipython-input-8-ab8c001b4567>\u001b[0m in \u001b[0;36mrun_file\u001b[0;34m(root_reader)\u001b[0m\n\u001b[1;32m     22\u001b[0m         \u001b[0mphi\u001b[0m \u001b[0;34m=\u001b[0m \u001b[0mnp\u001b[0m\u001b[0;34m.\u001b[0m\u001b[0marctan2\u001b[0m\u001b[0;34m(\u001b[0m\u001b[0mevent\u001b[0m\u001b[0;34m.\u001b[0m\u001b[0mcx\u001b[0m\u001b[0;34m[\u001b[0m\u001b[0;36m0\u001b[0m\u001b[0;34m]\u001b[0m\u001b[0;34m,\u001b[0m \u001b[0mevent\u001b[0m\u001b[0;34m.\u001b[0m\u001b[0mcy\u001b[0m\u001b[0;34m[\u001b[0m\u001b[0;36m0\u001b[0m\u001b[0;34m]\u001b[0m\u001b[0;34m)\u001b[0m\u001b[0;34m\u001b[0m\u001b[0;34m\u001b[0m\u001b[0m\n\u001b[1;32m     23\u001b[0m         \u001b[0mvz_vs_phi\u001b[0m\u001b[0;34m[\u001b[0m\u001b[0msector\u001b[0m\u001b[0;34m]\u001b[0m\u001b[0;34m.\u001b[0m\u001b[0mfill\u001b[0m\u001b[0;34m(\u001b[0m\u001b[0mevent\u001b[0m\u001b[0;34m.\u001b[0m\u001b[0mdc_vz\u001b[0m\u001b[0;34m[\u001b[0m\u001b[0;36m0\u001b[0m\u001b[0;34m]\u001b[0m\u001b[0;34m,\u001b[0m \u001b[0mphi\u001b[0m\u001b[0;34m)\u001b[0m\u001b[0;34m\u001b[0m\u001b[0;34m\u001b[0m\u001b[0m\n\u001b[0;32m---> 24\u001b[0;31m         \u001b[0mvz_vs_phi_all\u001b[0m\u001b[0;34m.\u001b[0m\u001b[0mfill\u001b[0m\u001b[0;34m(\u001b[0m\u001b[0mevent\u001b[0m\u001b[0;34m.\u001b[0m\u001b[0mdc_vz\u001b[0m\u001b[0;34m[\u001b[0m\u001b[0;36m0\u001b[0m\u001b[0;34m]\u001b[0m\u001b[0;34m,\u001b[0m \u001b[0mphi\u001b[0m\u001b[0;34m)\u001b[0m\u001b[0;34m\u001b[0m\u001b[0;34m\u001b[0m\u001b[0m\n\u001b[0m\u001b[1;32m     25\u001b[0m \u001b[0;34m\u001b[0m\u001b[0m\n\u001b[1;32m     26\u001b[0m \u001b[0;34m\u001b[0m\u001b[0m\n",
      "\u001b[0;32m/usr/local/lib/python3.8/site-packages/boost_histogram/_internal/hist.py\u001b[0m in \u001b[0;36mfill\u001b[0;34m(self, *args, **kwargs)\u001b[0m\n\u001b[1;32m    295\u001b[0m \u001b[0;34m\u001b[0m\u001b[0m\n\u001b[1;32m    296\u001b[0m         \u001b[0;32mif\u001b[0m \u001b[0mthreads\u001b[0m \u001b[0;32mis\u001b[0m \u001b[0;32mNone\u001b[0m \u001b[0;32mor\u001b[0m \u001b[0mthreads\u001b[0m \u001b[0;34m==\u001b[0m \u001b[0;36m1\u001b[0m\u001b[0;34m:\u001b[0m\u001b[0;34m\u001b[0m\u001b[0;34m\u001b[0m\u001b[0m\n\u001b[0;32m--> 297\u001b[0;31m             \u001b[0mself\u001b[0m\u001b[0;34m.\u001b[0m\u001b[0m_hist\u001b[0m\u001b[0;34m.\u001b[0m\u001b[0mfill\u001b[0m\u001b[0;34m(\u001b[0m\u001b[0;34m*\u001b[0m\u001b[0margs\u001b[0m\u001b[0;34m,\u001b[0m \u001b[0mweight\u001b[0m\u001b[0;34m=\u001b[0m\u001b[0mweight\u001b[0m\u001b[0;34m,\u001b[0m \u001b[0msample\u001b[0m\u001b[0;34m=\u001b[0m\u001b[0msample\u001b[0m\u001b[0;34m)\u001b[0m\u001b[0;34m\u001b[0m\u001b[0;34m\u001b[0m\u001b[0m\n\u001b[0m\u001b[1;32m    298\u001b[0m             \u001b[0;32mreturn\u001b[0m \u001b[0mself\u001b[0m\u001b[0;34m\u001b[0m\u001b[0;34m\u001b[0m\u001b[0m\n\u001b[1;32m    299\u001b[0m \u001b[0;34m\u001b[0m\u001b[0m\n",
      "\u001b[0;31mKeyboardInterrupt\u001b[0m: "
     ]
    }
   ],
   "source": [
    "full = run_file(data_reader)\n",
    "empty = run_file(empty_reader)"
   ]
  },
  {
   "cell_type": "code",
   "execution_count": null,
   "metadata": {},
   "outputs": [],
   "source": [
    "fig, ax = plt.subplots(figsize=[12,9])\n",
    "total = bh.Histogram(bh.axis.Regular(100, -6, 10))\n",
    "for i in range(1, 7):\n",
    "    total = total + vz[i]\n",
    "    y, x = vz[i].to_numpy()\n",
    "    y = y / np.max(y)\n",
    "    x = (x[1:] + x[:-1]) / 2.0\n",
    "\n",
    "    x_val = np.where(y >= 0.2)[0][0]\n",
    "    print(x[x_val])\n",
    "    \n",
    "    ax.scatter(x-x[x_val],y, s=0.2)\n",
    "\n",
    "\n",
    "fig1, ax1 = plt.subplots(figsize=[12,9])\n",
    "y1, x1 = total.to_numpy()\n",
    "y1 = y1 / np.max(y1)\n",
    "ax1.scatter(x1[1:],y1, s=0.2)"
   ]
  },
  {
   "cell_type": "code",
   "execution_count": null,
   "metadata": {},
   "outputs": [],
   "source": [
    "for i in range(1,7):\n",
    "    # Compute the areas of each bin\n",
    "    areas = functools.reduce(operator.mul, vz_vs_phi[i].axes.widths)\n",
    "\n",
    "    # Compute the density\n",
    "    density = vz_vs_phi[i].view() / vz_vs_phi[i].sum() / areas\n",
    "\n",
    "    # Make the plot\n",
    "    fig, ax = plt.subplots()\n",
    "    mesh = ax.pcolormesh(*vz_vs_phi[i].axes.edges.T, density.T)"
   ]
  },
  {
   "cell_type": "code",
   "execution_count": null,
   "metadata": {},
   "outputs": [],
   "source": [
    "# Compute the areas of each bin\n",
    "areas = functools.reduce(operator.mul, vz_vs_phi_all.axes.widths)\n",
    "\n",
    "# Compute the density\n",
    "density = vz_vs_phi_all.view() / vz_vs_phi_all.sum() / areas\n",
    "\n",
    "# Make the plot\n",
    "fig, ax = plt.subplots(figsize=[12,8])\n",
    "mesh = ax.pcolormesh(*vz_vs_phi_all.axes.edges.T, density.T)\n",
    "fig.colorbar(mesh, ax=ax)"
   ]
  },
  {
   "cell_type": "code",
   "execution_count": null,
   "metadata": {},
   "outputs": [],
   "source": [
    "# Compute the areas of each bin\n",
    "areas = functools.reduce(operator.mul, w_vs_q2.axes.widths)\n",
    "\n",
    "# Compute the density\n",
    "density = w_vs_q2.view() / w_vs_q2.sum() / areas\n",
    "\n",
    "# Make the plot\n",
    "fig, ax = plt.subplots(figsize=[12,8])\n",
    "mesh = ax.pcolormesh(*w_vs_q2.axes.edges.T, density.T)\n",
    "fig.colorbar(mesh, ax=ax)"
   ]
  },
  {
   "cell_type": "code",
   "execution_count": null,
   "metadata": {},
   "outputs": [],
   "source": []
  }
 ],
 "metadata": {
  "kernelspec": {
   "display_name": "Python 3",
   "language": "python",
   "name": "python3"
  },
  "language_info": {
   "codemirror_mode": {
    "name": "ipython",
    "version": 3
   },
   "file_extension": ".py",
   "mimetype": "text/x-python",
   "name": "python",
   "nbconvert_exporter": "python",
   "pygments_lexer": "ipython3",
   "version": "3.8.5"
  }
 },
 "nbformat": 4,
 "nbformat_minor": 4
}
